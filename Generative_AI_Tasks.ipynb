{
  "nbformat": 4,
  "nbformat_minor": 0,
  "metadata": {
    "colab": {
      "provenance": [],
      "authorship_tag": "ABX9TyOIpf0ZGPZejxtmdfsD7l1L",
      "include_colab_link": true
    },
    "kernelspec": {
      "name": "python3",
      "display_name": "Python 3"
    },
    "language_info": {
      "name": "python"
    }
  },
  "cells": [
    {
      "cell_type": "markdown",
      "metadata": {
        "id": "view-in-github",
        "colab_type": "text"
      },
      "source": [
        "<a href=\"https://colab.research.google.com/github/selvavivaan/Machine-Learning-selva/blob/main/Generative_AI_Tasks.ipynb\" target=\"_parent\"><img src=\"https://colab.research.google.com/assets/colab-badge.svg\" alt=\"Open In Colab\"/></a>"
      ]
    },
    {
      "cell_type": "code",
      "source": [
        "from transformers import pipeline\n",
        "from bs4 import BeautifulSoup\n",
        "import requests\n",
        "from flask import Flask, request, jsonify\n",
        "\n",
        "app = Flask(__name__)\n",
        "\n",
        "def extract_text_from_webpage(url):\n",
        "    try:\n",
        "        response = requests.get(url)\n",
        "        response.raise_for_status()\n",
        "        soup = BeautifulSoup(response.text, 'html.parser')\n",
        "        texts = soup.find_all(text=True)\n",
        "        visible_texts = filter(lambda x: x.strip(), texts)\n",
        "        webpage_text = \" \".join(visible_texts)\n",
        "        return webpage_text\n",
        "    except Exception as e:\n",
        "        print(f\"Error fetching webpage content: {e}\")\n",
        "        return None\n",
        "\n",
        "def answer_question_on_webpage(webpage_text, question):\n",
        "    qa_pipeline = pipeline(\"question-answering\")\n",
        "\n",
        "    answer = qa_pipeline(question=question, context=webpage_text)\n",
        "\n",
        "    return answer['answer'] if answer['score'] > 0.5 else \"I don't know the answer\"\n",
        "\n",
        "@app.route('/answer_question', methods=['POST'])\n",
        "def answer_question():\n",
        "    request_data = request.get_json()\n",
        "\n",
        "    if 'url' not in request_data or 'question' not in request_data:\n",
        "        return jsonify({\"error\": \"Invalid input format. 'url' and 'question' are required.\"}), 400\n",
        "\n",
        "    url = request_data['url']\n",
        "    question = request_data['question']\n",
        "\n",
        "    webpage_text = extract_text_from_webpage(url)\n",
        "\n",
        "    if webpage_text is None:\n",
        "        return jsonify({\"error\": \"Failed to fetch webpage content.\"}), 500\n",
        "\n",
        "    answer = answer_question_on_webpage(webpage_text, question)\n",
        "\n",
        "    return jsonify({\"answer\": answer})\n",
        "\n",
        "#Run the Flask web application\n",
        "if __name__ == '__main__':\n",
        "    app.run(debug=True)"
      ],
      "metadata": {
        "colab": {
          "base_uri": "https://localhost:8080/"
        },
        "id": "K7isCnuzQV5e",
        "outputId": "e5491723-51ca-4890-d4cc-f2c432f7d589"
      },
      "execution_count": 11,
      "outputs": [
        {
          "output_type": "stream",
          "name": "stdout",
          "text": [
            " * Serving Flask app '__main__'\n",
            " * Debug mode: on\n"
          ]
        },
        {
          "output_type": "stream",
          "name": "stderr",
          "text": [
            "INFO:werkzeug:\u001b[31m\u001b[1mWARNING: This is a development server. Do not use it in a production deployment. Use a production WSGI server instead.\u001b[0m\n",
            " * Running on http://127.0.0.1:5000\n",
            "INFO:werkzeug:\u001b[33mPress CTRL+C to quit\u001b[0m\n",
            "INFO:werkzeug: * Restarting with stat\n"
          ]
        }
      ]
    },
    {
      "cell_type": "code",
      "source": [
        "from transformers import pipeline\n",
        "from flask import Flask, request, jsonify\n",
        "\n",
        "app = Flask(__name__)\n",
        "\n",
        "def generate_marketing_content(topic, format_type):\n",
        "    text_generator = pipeline(\"text-generation\", model=\"EleutherAI/gpt-neo-2.7B\")\n",
        "\n",
        "    format_prompts = {\n",
        "        \"linkedin post\": f\"Excited to share insights on {topic}! 🚀 With its innovative capabilities, {topic} is revolutionizing various industries, from creative arts to healthcare. Its potential to generate realistic images, text, and even music is reshaping the way we create and interact with technology. Let's explore the endless possibilities and opportunities this cutting-edge technology offers. #{topic.replace(' ', '')} #Innovation #TechRevolution 🤖💡\"\n",
        "    }\n",
        "\n",
        "    if format_type in format_prompts:\n",
        "        generated_text = text_generator(format_prompts[format_type], max_length=150, num_return_sequences=1)[0]['generated_text']\n",
        "        return generated_text\n",
        "    else:\n",
        "        return \"Invalid format type. Supported formats: linkedin post\"\n",
        "\n",
        "@app.route('/generate_content', methods=['POST'])\n",
        "def generate_content():\n",
        "    request_data = request.get_json()\n",
        "\n",
        "    if 'topic' not in request_data or 'format' not in request_data:\n",
        "        return jsonify({\"error\": \"Invalid input format. 'topic' and 'format' are required.\"}), 400\n",
        "\n",
        "    topic = request_data['topic']\n",
        "    format_type = request_data['format']\n",
        "\n",
        "    generated_text = generate_marketing_content(topic, format_type)\n",
        "\n",
        "    return jsonify({\"text\": generated_text})\n",
        "\n",
        "#Run the Flask web application\n",
        "if __name__ == '__main__':\n",
        "    app.run(debug=True)"
      ],
      "metadata": {
        "colab": {
          "base_uri": "https://localhost:8080/"
        },
        "id": "XjxnUuzYQsc-",
        "outputId": "7440c90c-29a6-4318-f58c-7318c5571330"
      },
      "execution_count": 12,
      "outputs": [
        {
          "output_type": "stream",
          "name": "stdout",
          "text": [
            " * Serving Flask app '__main__'\n",
            " * Debug mode: on\n"
          ]
        },
        {
          "output_type": "stream",
          "name": "stderr",
          "text": [
            "INFO:werkzeug:\u001b[31m\u001b[1mWARNING: This is a development server. Do not use it in a production deployment. Use a production WSGI server instead.\u001b[0m\n",
            " * Running on http://127.0.0.1:5000\n",
            "INFO:werkzeug:\u001b[33mPress CTRL+C to quit\u001b[0m\n",
            "INFO:werkzeug: * Restarting with stat\n"
          ]
        }
      ]
    },
    {
      "cell_type": "code",
      "source": [],
      "metadata": {
        "id": "58DQKSPRRGp8"
      },
      "execution_count": null,
      "outputs": []
    }
  ]
}