{
  "cells": [
    {
      "cell_type": "markdown",
      "metadata": {
        "id": "_KG6Lh-phBaL"
      },
      "source": [
        "### Importing the Libraries"
      ],
      "id": "_KG6Lh-phBaL"
    },
    {
      "cell_type": "code",
      "execution_count": null,
      "metadata": {
        "id": "fLMNqbdhhArX"
      },
      "outputs": [],
      "source": [
        "import numpy as np\n",
        "import pandas as pd\n",
        "import matplotlib.pyplot as plt\n",
        "%matplotlib inline\n",
        "import seaborn as sns\n",
        "\n",
        "import warnings\n",
        "warnings.filterwarnings('ignore')"
      ],
      "id": "fLMNqbdhhArX"
    },
    {
      "cell_type": "markdown",
      "metadata": {
        "id": "cYLtWvWJiHnw"
      },
      "source": [
        "### Import the tools and algorithm from sklearn"
      ],
      "id": "cYLtWvWJiHnw"
    },
    {
      "cell_type": "code",
      "execution_count": null,
      "metadata": {
        "id": "32e5ec6a"
      },
      "outputs": [],
      "source": [
        "from sklearn.model_selection import train_test_split\n",
        "from sklearn.preprocessing import StandardScaler\n",
        "from sklearn.decomposition import PCA\n",
        "\n",
        "# Algorithm\n",
        "from sklearn.linear_model import LinearRegression\n",
        "from sklearn.neighbors import KNeighborsRegressor\n",
        "from sklearn.svm import LinearSVR, SVR\n",
        "from sklearn.tree import DecisionTreeRegressor\n",
        "from sklearn.ensemble import RandomForestRegressor, GradientBoostingRegressor\n",
        "from lightgbm import LGBMRegressor\n"
      ],
      "id": "32e5ec6a"
    },
    {
      "cell_type": "markdown",
      "metadata": {
        "id": "nDTzrbVAmyRv"
      },
      "source": [
        "### Import the metrics"
      ],
      "id": "nDTzrbVAmyRv"
    },
    {
      "cell_type": "code",
      "execution_count": null,
      "metadata": {
        "id": "-qpv_CbSm27I"
      },
      "outputs": [],
      "source": [
        "from sklearn.metrics import accuracy_score,r2_score,mean_squared_error"
      ],
      "id": "-qpv_CbSm27I"
    },
    {
      "cell_type": "code",
      "execution_count": null,
      "metadata": {
        "colab": {
          "base_uri": "https://localhost:8080/",
          "height": 35
        },
        "id": "ccfe04df",
        "outputId": "f9ad001c-f9a1-453c-de19-5112277b0f5f"
      },
      "outputs": [
        {
          "data": {
            "application/vnd.google.colaboratory.intrinsic+json": {
              "type": "string"
            },
            "text/plain": [
              "'/content'"
            ]
          },
          "execution_count": 4,
          "metadata": {},
          "output_type": "execute_result"
        }
      ],
      "source": [
        "pwd"
      ],
      "id": "ccfe04df"
    },
    {
      "cell_type": "markdown",
      "metadata": {
        "id": "sGdvRrJ4iSQv"
      },
      "source": [
        "### Read the Dataset"
      ],
      "id": "sGdvRrJ4iSQv"
    },
    {
      "cell_type": "code",
      "execution_count": null,
      "metadata": {
        "id": "216dff56"
      },
      "outputs": [],
      "source": [
        "df = pd.read_csv(\"Hospital_stay.csv\")"
      ],
      "id": "216dff56"
    },
    {
      "cell_type": "code",
      "execution_count": null,
      "metadata": {
        "colab": {
          "base_uri": "https://localhost:8080/",
          "height": 206
        },
        "id": "0537bbfc",
        "outputId": "17ee56fc-0dcb-429e-90ac-06c4c8cbb3be"
      },
      "outputs": [
        {
          "data": {
            "text/html": [
              "\n",
              "  <div id=\"df-1de34fb9-78f3-4ae1-a154-2e01f42e213d\">\n",
              "    <div class=\"colab-df-container\">\n",
              "      <div>\n",
              "<style scoped>\n",
              "    .dataframe tbody tr th:only-of-type {\n",
              "        vertical-align: middle;\n",
              "    }\n",
              "\n",
              "    .dataframe tbody tr th {\n",
              "        vertical-align: top;\n",
              "    }\n",
              "\n",
              "    .dataframe thead th {\n",
              "        text-align: right;\n",
              "    }\n",
              "</style>\n",
              "<table border=\"1\" class=\"dataframe\">\n",
              "  <thead>\n",
              "    <tr style=\"text-align: right;\">\n",
              "      <th></th>\n",
              "      <th>Location</th>\n",
              "      <th>Time</th>\n",
              "      <th>Hospital_Stay</th>\n",
              "      <th>MRI_Units</th>\n",
              "      <th>CT_Scanners</th>\n",
              "      <th>Hospital_Beds</th>\n",
              "    </tr>\n",
              "  </thead>\n",
              "  <tbody>\n",
              "    <tr>\n",
              "      <th>0</th>\n",
              "      <td>AUS</td>\n",
              "      <td>1992</td>\n",
              "      <td>6.6</td>\n",
              "      <td>1.43</td>\n",
              "      <td>16.71</td>\n",
              "      <td>1.43</td>\n",
              "    </tr>\n",
              "    <tr>\n",
              "      <th>1</th>\n",
              "      <td>AUS</td>\n",
              "      <td>1994</td>\n",
              "      <td>6.4</td>\n",
              "      <td>2.36</td>\n",
              "      <td>18.48</td>\n",
              "      <td>2.36</td>\n",
              "    </tr>\n",
              "    <tr>\n",
              "      <th>2</th>\n",
              "      <td>AUS</td>\n",
              "      <td>1995</td>\n",
              "      <td>6.5</td>\n",
              "      <td>2.89</td>\n",
              "      <td>20.55</td>\n",
              "      <td>2.89</td>\n",
              "    </tr>\n",
              "    <tr>\n",
              "      <th>3</th>\n",
              "      <td>AUS</td>\n",
              "      <td>1996</td>\n",
              "      <td>6.4</td>\n",
              "      <td>2.96</td>\n",
              "      <td>21.95</td>\n",
              "      <td>2.96</td>\n",
              "    </tr>\n",
              "    <tr>\n",
              "      <th>4</th>\n",
              "      <td>AUS</td>\n",
              "      <td>1997</td>\n",
              "      <td>6.2</td>\n",
              "      <td>3.53</td>\n",
              "      <td>23.34</td>\n",
              "      <td>3.53</td>\n",
              "    </tr>\n",
              "  </tbody>\n",
              "</table>\n",
              "</div>\n",
              "      <button class=\"colab-df-convert\" onclick=\"convertToInteractive('df-1de34fb9-78f3-4ae1-a154-2e01f42e213d')\"\n",
              "              title=\"Convert this dataframe to an interactive table.\"\n",
              "              style=\"display:none;\">\n",
              "        \n",
              "  <svg xmlns=\"http://www.w3.org/2000/svg\" height=\"24px\"viewBox=\"0 0 24 24\"\n",
              "       width=\"24px\">\n",
              "    <path d=\"M0 0h24v24H0V0z\" fill=\"none\"/>\n",
              "    <path d=\"M18.56 5.44l.94 2.06.94-2.06 2.06-.94-2.06-.94-.94-2.06-.94 2.06-2.06.94zm-11 1L8.5 8.5l.94-2.06 2.06-.94-2.06-.94L8.5 2.5l-.94 2.06-2.06.94zm10 10l.94 2.06.94-2.06 2.06-.94-2.06-.94-.94-2.06-.94 2.06-2.06.94z\"/><path d=\"M17.41 7.96l-1.37-1.37c-.4-.4-.92-.59-1.43-.59-.52 0-1.04.2-1.43.59L10.3 9.45l-7.72 7.72c-.78.78-.78 2.05 0 2.83L4 21.41c.39.39.9.59 1.41.59.51 0 1.02-.2 1.41-.59l7.78-7.78 2.81-2.81c.8-.78.8-2.07 0-2.86zM5.41 20L4 18.59l7.72-7.72 1.47 1.35L5.41 20z\"/>\n",
              "  </svg>\n",
              "      </button>\n",
              "      \n",
              "  <style>\n",
              "    .colab-df-container {\n",
              "      display:flex;\n",
              "      flex-wrap:wrap;\n",
              "      gap: 12px;\n",
              "    }\n",
              "\n",
              "    .colab-df-convert {\n",
              "      background-color: #E8F0FE;\n",
              "      border: none;\n",
              "      border-radius: 50%;\n",
              "      cursor: pointer;\n",
              "      display: none;\n",
              "      fill: #1967D2;\n",
              "      height: 32px;\n",
              "      padding: 0 0 0 0;\n",
              "      width: 32px;\n",
              "    }\n",
              "\n",
              "    .colab-df-convert:hover {\n",
              "      background-color: #E2EBFA;\n",
              "      box-shadow: 0px 1px 2px rgba(60, 64, 67, 0.3), 0px 1px 3px 1px rgba(60, 64, 67, 0.15);\n",
              "      fill: #174EA6;\n",
              "    }\n",
              "\n",
              "    [theme=dark] .colab-df-convert {\n",
              "      background-color: #3B4455;\n",
              "      fill: #D2E3FC;\n",
              "    }\n",
              "\n",
              "    [theme=dark] .colab-df-convert:hover {\n",
              "      background-color: #434B5C;\n",
              "      box-shadow: 0px 1px 3px 1px rgba(0, 0, 0, 0.15);\n",
              "      filter: drop-shadow(0px 1px 2px rgba(0, 0, 0, 0.3));\n",
              "      fill: #FFFFFF;\n",
              "    }\n",
              "  </style>\n",
              "\n",
              "      <script>\n",
              "        const buttonEl =\n",
              "          document.querySelector('#df-1de34fb9-78f3-4ae1-a154-2e01f42e213d button.colab-df-convert');\n",
              "        buttonEl.style.display =\n",
              "          google.colab.kernel.accessAllowed ? 'block' : 'none';\n",
              "\n",
              "        async function convertToInteractive(key) {\n",
              "          const element = document.querySelector('#df-1de34fb9-78f3-4ae1-a154-2e01f42e213d');\n",
              "          const dataTable =\n",
              "            await google.colab.kernel.invokeFunction('convertToInteractive',\n",
              "                                                     [key], {});\n",
              "          if (!dataTable) return;\n",
              "\n",
              "          const docLinkHtml = 'Like what you see? Visit the ' +\n",
              "            '<a target=\"_blank\" href=https://colab.research.google.com/notebooks/data_table.ipynb>data table notebook</a>'\n",
              "            + ' to learn more about interactive tables.';\n",
              "          element.innerHTML = '';\n",
              "          dataTable['output_type'] = 'display_data';\n",
              "          await google.colab.output.renderOutput(dataTable, element);\n",
              "          const docLink = document.createElement('div');\n",
              "          docLink.innerHTML = docLinkHtml;\n",
              "          element.appendChild(docLink);\n",
              "        }\n",
              "      </script>\n",
              "    </div>\n",
              "  </div>\n",
              "  "
            ],
            "text/plain": [
              "  Location  Time  Hospital_Stay  MRI_Units  CT_Scanners  Hospital_Beds\n",
              "0      AUS  1992            6.6       1.43        16.71           1.43\n",
              "1      AUS  1994            6.4       2.36        18.48           2.36\n",
              "2      AUS  1995            6.5       2.89        20.55           2.89\n",
              "3      AUS  1996            6.4       2.96        21.95           2.96\n",
              "4      AUS  1997            6.2       3.53        23.34           3.53"
            ]
          },
          "execution_count": 7,
          "metadata": {},
          "output_type": "execute_result"
        }
      ],
      "source": [
        "df.head()"
      ],
      "id": "0537bbfc"
    },
    {
      "cell_type": "markdown",
      "metadata": {
        "id": "GJXMYkibikNz"
      },
      "source": [
        "### Feature Engineering"
      ],
      "id": "GJXMYkibikNz"
    },
    {
      "cell_type": "code",
      "execution_count": null,
      "metadata": {
        "colab": {
          "base_uri": "https://localhost:8080/"
        },
        "id": "7aba5c64",
        "outputId": "04362b2d-ddb3-4ce9-c3fe-3212c9fb670f"
      },
      "outputs": [
        {
          "data": {
            "text/plain": [
              "(518, 6)"
            ]
          },
          "execution_count": 8,
          "metadata": {},
          "output_type": "execute_result"
        }
      ],
      "source": [
        "df.shape"
      ],
      "id": "7aba5c64"
    },
    {
      "cell_type": "code",
      "execution_count": null,
      "metadata": {
        "colab": {
          "base_uri": "https://localhost:8080/"
        },
        "id": "7bc6937f",
        "outputId": "d45351fe-3980-49bc-b2b5-6d66a256cc7a"
      },
      "outputs": [
        {
          "data": {
            "text/plain": [
              "Index(['Location', 'Time', 'Hospital_Stay', 'MRI_Units', 'CT_Scanners',\n",
              "       'Hospital_Beds'],\n",
              "      dtype='object')"
            ]
          },
          "execution_count": 9,
          "metadata": {},
          "output_type": "execute_result"
        }
      ],
      "source": [
        "df.columns"
      ],
      "id": "7bc6937f"
    },
    {
      "cell_type": "code",
      "execution_count": null,
      "metadata": {
        "colab": {
          "base_uri": "https://localhost:8080/"
        },
        "id": "aa85c798",
        "outputId": "08f6c6bc-9fb6-47a7-f25b-5776ea417d25"
      },
      "outputs": [
        {
          "name": "stdout",
          "output_type": "stream",
          "text": [
            "<class 'pandas.core.frame.DataFrame'>\n",
            "RangeIndex: 518 entries, 0 to 517\n",
            "Data columns (total 6 columns):\n",
            " #   Column         Non-Null Count  Dtype  \n",
            "---  ------         --------------  -----  \n",
            " 0   Location       518 non-null    object \n",
            " 1   Time           518 non-null    int64  \n",
            " 2   Hospital_Stay  518 non-null    float64\n",
            " 3   MRI_Units      518 non-null    float64\n",
            " 4   CT_Scanners    518 non-null    float64\n",
            " 5   Hospital_Beds  518 non-null    float64\n",
            "dtypes: float64(4), int64(1), object(1)\n",
            "memory usage: 24.4+ KB\n"
          ]
        }
      ],
      "source": [
        "df.info()"
      ],
      "id": "aa85c798"
    },
    {
      "cell_type": "markdown",
      "metadata": {
        "id": "KqWdSvoMisMg"
      },
      "source": [
        "#### Descripe the statistics of the data"
      ],
      "id": "KqWdSvoMisMg"
    },
    {
      "cell_type": "code",
      "execution_count": null,
      "metadata": {
        "colab": {
          "base_uri": "https://localhost:8080/",
          "height": 300
        },
        "id": "1cfb7f07",
        "outputId": "8f41177f-074e-4e30-8863-0f1ee6faef99"
      },
      "outputs": [
        {
          "data": {
            "text/html": [
              "\n",
              "  <div id=\"df-36a14edf-6ae1-4760-add5-0cbf61066224\">\n",
              "    <div class=\"colab-df-container\">\n",
              "      <div>\n",
              "<style scoped>\n",
              "    .dataframe tbody tr th:only-of-type {\n",
              "        vertical-align: middle;\n",
              "    }\n",
              "\n",
              "    .dataframe tbody tr th {\n",
              "        vertical-align: top;\n",
              "    }\n",
              "\n",
              "    .dataframe thead th {\n",
              "        text-align: right;\n",
              "    }\n",
              "</style>\n",
              "<table border=\"1\" class=\"dataframe\">\n",
              "  <thead>\n",
              "    <tr style=\"text-align: right;\">\n",
              "      <th></th>\n",
              "      <th>Time</th>\n",
              "      <th>Hospital_Stay</th>\n",
              "      <th>MRI_Units</th>\n",
              "      <th>CT_Scanners</th>\n",
              "      <th>Hospital_Beds</th>\n",
              "    </tr>\n",
              "  </thead>\n",
              "  <tbody>\n",
              "    <tr>\n",
              "      <th>count</th>\n",
              "      <td>518.000000</td>\n",
              "      <td>518.000000</td>\n",
              "      <td>518.000000</td>\n",
              "      <td>518.000000</td>\n",
              "      <td>518.000000</td>\n",
              "    </tr>\n",
              "    <tr>\n",
              "      <th>mean</th>\n",
              "      <td>2007.967181</td>\n",
              "      <td>7.140154</td>\n",
              "      <td>10.565502</td>\n",
              "      <td>19.646718</td>\n",
              "      <td>10.565502</td>\n",
              "    </tr>\n",
              "    <tr>\n",
              "      <th>std</th>\n",
              "      <td>6.944160</td>\n",
              "      <td>2.566864</td>\n",
              "      <td>8.685570</td>\n",
              "      <td>14.352069</td>\n",
              "      <td>8.685570</td>\n",
              "    </tr>\n",
              "    <tr>\n",
              "      <th>min</th>\n",
              "      <td>1990.000000</td>\n",
              "      <td>3.400000</td>\n",
              "      <td>0.100000</td>\n",
              "      <td>1.480000</td>\n",
              "      <td>0.100000</td>\n",
              "    </tr>\n",
              "    <tr>\n",
              "      <th>25%</th>\n",
              "      <td>2003.250000</td>\n",
              "      <td>5.800000</td>\n",
              "      <td>4.072500</td>\n",
              "      <td>10.332500</td>\n",
              "      <td>4.072500</td>\n",
              "    </tr>\n",
              "    <tr>\n",
              "      <th>50%</th>\n",
              "      <td>2009.000000</td>\n",
              "      <td>6.650000</td>\n",
              "      <td>8.765000</td>\n",
              "      <td>15.375000</td>\n",
              "      <td>8.765000</td>\n",
              "    </tr>\n",
              "    <tr>\n",
              "      <th>75%</th>\n",
              "      <td>2014.000000</td>\n",
              "      <td>7.500000</td>\n",
              "      <td>13.877500</td>\n",
              "      <td>26.592500</td>\n",
              "      <td>13.877500</td>\n",
              "    </tr>\n",
              "    <tr>\n",
              "      <th>max</th>\n",
              "      <td>2018.000000</td>\n",
              "      <td>32.700000</td>\n",
              "      <td>55.210000</td>\n",
              "      <td>111.490000</td>\n",
              "      <td>55.210000</td>\n",
              "    </tr>\n",
              "  </tbody>\n",
              "</table>\n",
              "</div>\n",
              "      <button class=\"colab-df-convert\" onclick=\"convertToInteractive('df-36a14edf-6ae1-4760-add5-0cbf61066224')\"\n",
              "              title=\"Convert this dataframe to an interactive table.\"\n",
              "              style=\"display:none;\">\n",
              "        \n",
              "  <svg xmlns=\"http://www.w3.org/2000/svg\" height=\"24px\"viewBox=\"0 0 24 24\"\n",
              "       width=\"24px\">\n",
              "    <path d=\"M0 0h24v24H0V0z\" fill=\"none\"/>\n",
              "    <path d=\"M18.56 5.44l.94 2.06.94-2.06 2.06-.94-2.06-.94-.94-2.06-.94 2.06-2.06.94zm-11 1L8.5 8.5l.94-2.06 2.06-.94-2.06-.94L8.5 2.5l-.94 2.06-2.06.94zm10 10l.94 2.06.94-2.06 2.06-.94-2.06-.94-.94-2.06-.94 2.06-2.06.94z\"/><path d=\"M17.41 7.96l-1.37-1.37c-.4-.4-.92-.59-1.43-.59-.52 0-1.04.2-1.43.59L10.3 9.45l-7.72 7.72c-.78.78-.78 2.05 0 2.83L4 21.41c.39.39.9.59 1.41.59.51 0 1.02-.2 1.41-.59l7.78-7.78 2.81-2.81c.8-.78.8-2.07 0-2.86zM5.41 20L4 18.59l7.72-7.72 1.47 1.35L5.41 20z\"/>\n",
              "  </svg>\n",
              "      </button>\n",
              "      \n",
              "  <style>\n",
              "    .colab-df-container {\n",
              "      display:flex;\n",
              "      flex-wrap:wrap;\n",
              "      gap: 12px;\n",
              "    }\n",
              "\n",
              "    .colab-df-convert {\n",
              "      background-color: #E8F0FE;\n",
              "      border: none;\n",
              "      border-radius: 50%;\n",
              "      cursor: pointer;\n",
              "      display: none;\n",
              "      fill: #1967D2;\n",
              "      height: 32px;\n",
              "      padding: 0 0 0 0;\n",
              "      width: 32px;\n",
              "    }\n",
              "\n",
              "    .colab-df-convert:hover {\n",
              "      background-color: #E2EBFA;\n",
              "      box-shadow: 0px 1px 2px rgba(60, 64, 67, 0.3), 0px 1px 3px 1px rgba(60, 64, 67, 0.15);\n",
              "      fill: #174EA6;\n",
              "    }\n",
              "\n",
              "    [theme=dark] .colab-df-convert {\n",
              "      background-color: #3B4455;\n",
              "      fill: #D2E3FC;\n",
              "    }\n",
              "\n",
              "    [theme=dark] .colab-df-convert:hover {\n",
              "      background-color: #434B5C;\n",
              "      box-shadow: 0px 1px 3px 1px rgba(0, 0, 0, 0.15);\n",
              "      filter: drop-shadow(0px 1px 2px rgba(0, 0, 0, 0.3));\n",
              "      fill: #FFFFFF;\n",
              "    }\n",
              "  </style>\n",
              "\n",
              "      <script>\n",
              "        const buttonEl =\n",
              "          document.querySelector('#df-36a14edf-6ae1-4760-add5-0cbf61066224 button.colab-df-convert');\n",
              "        buttonEl.style.display =\n",
              "          google.colab.kernel.accessAllowed ? 'block' : 'none';\n",
              "\n",
              "        async function convertToInteractive(key) {\n",
              "          const element = document.querySelector('#df-36a14edf-6ae1-4760-add5-0cbf61066224');\n",
              "          const dataTable =\n",
              "            await google.colab.kernel.invokeFunction('convertToInteractive',\n",
              "                                                     [key], {});\n",
              "          if (!dataTable) return;\n",
              "\n",
              "          const docLinkHtml = 'Like what you see? Visit the ' +\n",
              "            '<a target=\"_blank\" href=https://colab.research.google.com/notebooks/data_table.ipynb>data table notebook</a>'\n",
              "            + ' to learn more about interactive tables.';\n",
              "          element.innerHTML = '';\n",
              "          dataTable['output_type'] = 'display_data';\n",
              "          await google.colab.output.renderOutput(dataTable, element);\n",
              "          const docLink = document.createElement('div');\n",
              "          docLink.innerHTML = docLinkHtml;\n",
              "          element.appendChild(docLink);\n",
              "        }\n",
              "      </script>\n",
              "    </div>\n",
              "  </div>\n",
              "  "
            ],
            "text/plain": [
              "              Time  Hospital_Stay   MRI_Units  CT_Scanners  Hospital_Beds\n",
              "count   518.000000     518.000000  518.000000   518.000000     518.000000\n",
              "mean   2007.967181       7.140154   10.565502    19.646718      10.565502\n",
              "std       6.944160       2.566864    8.685570    14.352069       8.685570\n",
              "min    1990.000000       3.400000    0.100000     1.480000       0.100000\n",
              "25%    2003.250000       5.800000    4.072500    10.332500       4.072500\n",
              "50%    2009.000000       6.650000    8.765000    15.375000       8.765000\n",
              "75%    2014.000000       7.500000   13.877500    26.592500      13.877500\n",
              "max    2018.000000      32.700000   55.210000   111.490000      55.210000"
            ]
          },
          "execution_count": 11,
          "metadata": {},
          "output_type": "execute_result"
        }
      ],
      "source": [
        "df.describe()"
      ],
      "id": "1cfb7f07"
    },
    {
      "cell_type": "markdown",
      "metadata": {
        "id": "zFsQ7TjCi8zy"
      },
      "source": [
        "#### Check the missing values"
      ],
      "id": "zFsQ7TjCi8zy"
    },
    {
      "cell_type": "code",
      "execution_count": null,
      "metadata": {
        "colab": {
          "base_uri": "https://localhost:8080/"
        },
        "id": "1ba0c9c5",
        "outputId": "cb78e6f2-7324-478e-cf89-2d21849db106"
      },
      "outputs": [
        {
          "data": {
            "text/plain": [
              "Location         0\n",
              "Time             0\n",
              "Hospital_Stay    0\n",
              "MRI_Units        0\n",
              "CT_Scanners      0\n",
              "Hospital_Beds    0\n",
              "dtype: int64"
            ]
          },
          "execution_count": 12,
          "metadata": {},
          "output_type": "execute_result"
        }
      ],
      "source": [
        "df.isnull().sum()"
      ],
      "id": "1ba0c9c5"
    },
    {
      "cell_type": "markdown",
      "metadata": {
        "id": "Jycznb-XjC-y"
      },
      "source": [
        "- In this data null values is not exists"
      ],
      "id": "Jycznb-XjC-y"
    },
    {
      "cell_type": "markdown",
      "metadata": {
        "id": "ba0ec543"
      },
      "source": [
        "### Preprocessing Techniques"
      ],
      "id": "ba0ec543"
    },
    {
      "cell_type": "code",
      "execution_count": null,
      "metadata": {
        "colab": {
          "base_uri": "https://localhost:8080/",
          "height": 424
        },
        "id": "d44b8567",
        "outputId": "47ea0e47-28db-45ba-b723-972767b28fcc"
      },
      "outputs": [
        {
          "data": {
            "text/html": [
              "\n",
              "  <div id=\"df-53f5464f-60da-47dc-9cf9-8b6ed6f3fcc0\">\n",
              "    <div class=\"colab-df-container\">\n",
              "      <div>\n",
              "<style scoped>\n",
              "    .dataframe tbody tr th:only-of-type {\n",
              "        vertical-align: middle;\n",
              "    }\n",
              "\n",
              "    .dataframe tbody tr th {\n",
              "        vertical-align: top;\n",
              "    }\n",
              "\n",
              "    .dataframe thead th {\n",
              "        text-align: right;\n",
              "    }\n",
              "</style>\n",
              "<table border=\"1\" class=\"dataframe\">\n",
              "  <thead>\n",
              "    <tr style=\"text-align: right;\">\n",
              "      <th></th>\n",
              "      <th>Location</th>\n",
              "      <th>Time</th>\n",
              "      <th>Hospital_Stay</th>\n",
              "      <th>MRI_Units</th>\n",
              "      <th>CT_Scanners</th>\n",
              "      <th>Hospital_Beds</th>\n",
              "    </tr>\n",
              "  </thead>\n",
              "  <tbody>\n",
              "    <tr>\n",
              "      <th>0</th>\n",
              "      <td>AUS</td>\n",
              "      <td>1992</td>\n",
              "      <td>6.6</td>\n",
              "      <td>1.43</td>\n",
              "      <td>16.71</td>\n",
              "      <td>1.43</td>\n",
              "    </tr>\n",
              "    <tr>\n",
              "      <th>1</th>\n",
              "      <td>AUS</td>\n",
              "      <td>1994</td>\n",
              "      <td>6.4</td>\n",
              "      <td>2.36</td>\n",
              "      <td>18.48</td>\n",
              "      <td>2.36</td>\n",
              "    </tr>\n",
              "    <tr>\n",
              "      <th>2</th>\n",
              "      <td>AUS</td>\n",
              "      <td>1995</td>\n",
              "      <td>6.5</td>\n",
              "      <td>2.89</td>\n",
              "      <td>20.55</td>\n",
              "      <td>2.89</td>\n",
              "    </tr>\n",
              "    <tr>\n",
              "      <th>3</th>\n",
              "      <td>AUS</td>\n",
              "      <td>1996</td>\n",
              "      <td>6.4</td>\n",
              "      <td>2.96</td>\n",
              "      <td>21.95</td>\n",
              "      <td>2.96</td>\n",
              "    </tr>\n",
              "    <tr>\n",
              "      <th>4</th>\n",
              "      <td>AUS</td>\n",
              "      <td>1997</td>\n",
              "      <td>6.2</td>\n",
              "      <td>3.53</td>\n",
              "      <td>23.34</td>\n",
              "      <td>3.53</td>\n",
              "    </tr>\n",
              "    <tr>\n",
              "      <th>...</th>\n",
              "      <td>...</td>\n",
              "      <td>...</td>\n",
              "      <td>...</td>\n",
              "      <td>...</td>\n",
              "      <td>...</td>\n",
              "      <td>...</td>\n",
              "    </tr>\n",
              "    <tr>\n",
              "      <th>513</th>\n",
              "      <td>LTU</td>\n",
              "      <td>2014</td>\n",
              "      <td>6.8</td>\n",
              "      <td>10.57</td>\n",
              "      <td>22.17</td>\n",
              "      <td>10.57</td>\n",
              "    </tr>\n",
              "    <tr>\n",
              "      <th>514</th>\n",
              "      <td>LTU</td>\n",
              "      <td>2015</td>\n",
              "      <td>6.6</td>\n",
              "      <td>11.02</td>\n",
              "      <td>21.00</td>\n",
              "      <td>11.02</td>\n",
              "    </tr>\n",
              "    <tr>\n",
              "      <th>515</th>\n",
              "      <td>LTU</td>\n",
              "      <td>2016</td>\n",
              "      <td>6.6</td>\n",
              "      <td>12.20</td>\n",
              "      <td>23.01</td>\n",
              "      <td>12.20</td>\n",
              "    </tr>\n",
              "    <tr>\n",
              "      <th>516</th>\n",
              "      <td>LTU</td>\n",
              "      <td>2017</td>\n",
              "      <td>6.5</td>\n",
              "      <td>12.37</td>\n",
              "      <td>23.33</td>\n",
              "      <td>12.37</td>\n",
              "    </tr>\n",
              "    <tr>\n",
              "      <th>517</th>\n",
              "      <td>LTU</td>\n",
              "      <td>2018</td>\n",
              "      <td>6.5</td>\n",
              "      <td>12.49</td>\n",
              "      <td>24.27</td>\n",
              "      <td>12.49</td>\n",
              "    </tr>\n",
              "  </tbody>\n",
              "</table>\n",
              "<p>518 rows × 6 columns</p>\n",
              "</div>\n",
              "      <button class=\"colab-df-convert\" onclick=\"convertToInteractive('df-53f5464f-60da-47dc-9cf9-8b6ed6f3fcc0')\"\n",
              "              title=\"Convert this dataframe to an interactive table.\"\n",
              "              style=\"display:none;\">\n",
              "        \n",
              "  <svg xmlns=\"http://www.w3.org/2000/svg\" height=\"24px\"viewBox=\"0 0 24 24\"\n",
              "       width=\"24px\">\n",
              "    <path d=\"M0 0h24v24H0V0z\" fill=\"none\"/>\n",
              "    <path d=\"M18.56 5.44l.94 2.06.94-2.06 2.06-.94-2.06-.94-.94-2.06-.94 2.06-2.06.94zm-11 1L8.5 8.5l.94-2.06 2.06-.94-2.06-.94L8.5 2.5l-.94 2.06-2.06.94zm10 10l.94 2.06.94-2.06 2.06-.94-2.06-.94-.94-2.06-.94 2.06-2.06.94z\"/><path d=\"M17.41 7.96l-1.37-1.37c-.4-.4-.92-.59-1.43-.59-.52 0-1.04.2-1.43.59L10.3 9.45l-7.72 7.72c-.78.78-.78 2.05 0 2.83L4 21.41c.39.39.9.59 1.41.59.51 0 1.02-.2 1.41-.59l7.78-7.78 2.81-2.81c.8-.78.8-2.07 0-2.86zM5.41 20L4 18.59l7.72-7.72 1.47 1.35L5.41 20z\"/>\n",
              "  </svg>\n",
              "      </button>\n",
              "      \n",
              "  <style>\n",
              "    .colab-df-container {\n",
              "      display:flex;\n",
              "      flex-wrap:wrap;\n",
              "      gap: 12px;\n",
              "    }\n",
              "\n",
              "    .colab-df-convert {\n",
              "      background-color: #E8F0FE;\n",
              "      border: none;\n",
              "      border-radius: 50%;\n",
              "      cursor: pointer;\n",
              "      display: none;\n",
              "      fill: #1967D2;\n",
              "      height: 32px;\n",
              "      padding: 0 0 0 0;\n",
              "      width: 32px;\n",
              "    }\n",
              "\n",
              "    .colab-df-convert:hover {\n",
              "      background-color: #E2EBFA;\n",
              "      box-shadow: 0px 1px 2px rgba(60, 64, 67, 0.3), 0px 1px 3px 1px rgba(60, 64, 67, 0.15);\n",
              "      fill: #174EA6;\n",
              "    }\n",
              "\n",
              "    [theme=dark] .colab-df-convert {\n",
              "      background-color: #3B4455;\n",
              "      fill: #D2E3FC;\n",
              "    }\n",
              "\n",
              "    [theme=dark] .colab-df-convert:hover {\n",
              "      background-color: #434B5C;\n",
              "      box-shadow: 0px 1px 3px 1px rgba(0, 0, 0, 0.15);\n",
              "      filter: drop-shadow(0px 1px 2px rgba(0, 0, 0, 0.3));\n",
              "      fill: #FFFFFF;\n",
              "    }\n",
              "  </style>\n",
              "\n",
              "      <script>\n",
              "        const buttonEl =\n",
              "          document.querySelector('#df-53f5464f-60da-47dc-9cf9-8b6ed6f3fcc0 button.colab-df-convert');\n",
              "        buttonEl.style.display =\n",
              "          google.colab.kernel.accessAllowed ? 'block' : 'none';\n",
              "\n",
              "        async function convertToInteractive(key) {\n",
              "          const element = document.querySelector('#df-53f5464f-60da-47dc-9cf9-8b6ed6f3fcc0');\n",
              "          const dataTable =\n",
              "            await google.colab.kernel.invokeFunction('convertToInteractive',\n",
              "                                                     [key], {});\n",
              "          if (!dataTable) return;\n",
              "\n",
              "          const docLinkHtml = 'Like what you see? Visit the ' +\n",
              "            '<a target=\"_blank\" href=https://colab.research.google.com/notebooks/data_table.ipynb>data table notebook</a>'\n",
              "            + ' to learn more about interactive tables.';\n",
              "          element.innerHTML = '';\n",
              "          dataTable['output_type'] = 'display_data';\n",
              "          await google.colab.output.renderOutput(dataTable, element);\n",
              "          const docLink = document.createElement('div');\n",
              "          docLink.innerHTML = docLinkHtml;\n",
              "          element.appendChild(docLink);\n",
              "        }\n",
              "      </script>\n",
              "    </div>\n",
              "  </div>\n",
              "  "
            ],
            "text/plain": [
              "    Location  Time  Hospital_Stay  MRI_Units  CT_Scanners  Hospital_Beds\n",
              "0        AUS  1992            6.6       1.43        16.71           1.43\n",
              "1        AUS  1994            6.4       2.36        18.48           2.36\n",
              "2        AUS  1995            6.5       2.89        20.55           2.89\n",
              "3        AUS  1996            6.4       2.96        21.95           2.96\n",
              "4        AUS  1997            6.2       3.53        23.34           3.53\n",
              "..       ...   ...            ...        ...          ...            ...\n",
              "513      LTU  2014            6.8      10.57        22.17          10.57\n",
              "514      LTU  2015            6.6      11.02        21.00          11.02\n",
              "515      LTU  2016            6.6      12.20        23.01          12.20\n",
              "516      LTU  2017            6.5      12.37        23.33          12.37\n",
              "517      LTU  2018            6.5      12.49        24.27          12.49\n",
              "\n",
              "[518 rows x 6 columns]"
            ]
          },
          "execution_count": 13,
          "metadata": {},
          "output_type": "execute_result"
        }
      ],
      "source": [
        "df"
      ],
      "id": "d44b8567"
    },
    {
      "cell_type": "code",
      "execution_count": null,
      "metadata": {
        "colab": {
          "base_uri": "https://localhost:8080/",
          "height": 206
        },
        "id": "t-YMgoNLznmW",
        "outputId": "eb6d1070-71fa-42be-e4f5-1d3a1628f7f3"
      },
      "outputs": [
        {
          "data": {
            "text/html": [
              "\n",
              "  <div id=\"df-5e5e90ca-049c-4791-aebf-7be276e69f60\">\n",
              "    <div class=\"colab-df-container\">\n",
              "      <div>\n",
              "<style scoped>\n",
              "    .dataframe tbody tr th:only-of-type {\n",
              "        vertical-align: middle;\n",
              "    }\n",
              "\n",
              "    .dataframe tbody tr th {\n",
              "        vertical-align: top;\n",
              "    }\n",
              "\n",
              "    .dataframe thead th {\n",
              "        text-align: right;\n",
              "    }\n",
              "</style>\n",
              "<table border=\"1\" class=\"dataframe\">\n",
              "  <thead>\n",
              "    <tr style=\"text-align: right;\">\n",
              "      <th></th>\n",
              "      <th>Time</th>\n",
              "      <th>Hospital_Stay</th>\n",
              "      <th>MRI_Units</th>\n",
              "      <th>CT_Scanners</th>\n",
              "      <th>Hospital_Beds</th>\n",
              "    </tr>\n",
              "  </thead>\n",
              "  <tbody>\n",
              "    <tr>\n",
              "      <th>Time</th>\n",
              "      <td>1.000000</td>\n",
              "      <td>-0.360443</td>\n",
              "      <td>0.477647</td>\n",
              "      <td>0.274668</td>\n",
              "      <td>0.477647</td>\n",
              "    </tr>\n",
              "    <tr>\n",
              "      <th>Hospital_Stay</th>\n",
              "      <td>-0.360443</td>\n",
              "      <td>1.000000</td>\n",
              "      <td>0.058874</td>\n",
              "      <td>0.249306</td>\n",
              "      <td>0.058874</td>\n",
              "    </tr>\n",
              "    <tr>\n",
              "      <th>MRI_Units</th>\n",
              "      <td>0.477647</td>\n",
              "      <td>0.058874</td>\n",
              "      <td>1.000000</td>\n",
              "      <td>0.759864</td>\n",
              "      <td>1.000000</td>\n",
              "    </tr>\n",
              "    <tr>\n",
              "      <th>CT_Scanners</th>\n",
              "      <td>0.274668</td>\n",
              "      <td>0.249306</td>\n",
              "      <td>0.759864</td>\n",
              "      <td>1.000000</td>\n",
              "      <td>0.759864</td>\n",
              "    </tr>\n",
              "    <tr>\n",
              "      <th>Hospital_Beds</th>\n",
              "      <td>0.477647</td>\n",
              "      <td>0.058874</td>\n",
              "      <td>1.000000</td>\n",
              "      <td>0.759864</td>\n",
              "      <td>1.000000</td>\n",
              "    </tr>\n",
              "  </tbody>\n",
              "</table>\n",
              "</div>\n",
              "      <button class=\"colab-df-convert\" onclick=\"convertToInteractive('df-5e5e90ca-049c-4791-aebf-7be276e69f60')\"\n",
              "              title=\"Convert this dataframe to an interactive table.\"\n",
              "              style=\"display:none;\">\n",
              "        \n",
              "  <svg xmlns=\"http://www.w3.org/2000/svg\" height=\"24px\"viewBox=\"0 0 24 24\"\n",
              "       width=\"24px\">\n",
              "    <path d=\"M0 0h24v24H0V0z\" fill=\"none\"/>\n",
              "    <path d=\"M18.56 5.44l.94 2.06.94-2.06 2.06-.94-2.06-.94-.94-2.06-.94 2.06-2.06.94zm-11 1L8.5 8.5l.94-2.06 2.06-.94-2.06-.94L8.5 2.5l-.94 2.06-2.06.94zm10 10l.94 2.06.94-2.06 2.06-.94-2.06-.94-.94-2.06-.94 2.06-2.06.94z\"/><path d=\"M17.41 7.96l-1.37-1.37c-.4-.4-.92-.59-1.43-.59-.52 0-1.04.2-1.43.59L10.3 9.45l-7.72 7.72c-.78.78-.78 2.05 0 2.83L4 21.41c.39.39.9.59 1.41.59.51 0 1.02-.2 1.41-.59l7.78-7.78 2.81-2.81c.8-.78.8-2.07 0-2.86zM5.41 20L4 18.59l7.72-7.72 1.47 1.35L5.41 20z\"/>\n",
              "  </svg>\n",
              "      </button>\n",
              "      \n",
              "  <style>\n",
              "    .colab-df-container {\n",
              "      display:flex;\n",
              "      flex-wrap:wrap;\n",
              "      gap: 12px;\n",
              "    }\n",
              "\n",
              "    .colab-df-convert {\n",
              "      background-color: #E8F0FE;\n",
              "      border: none;\n",
              "      border-radius: 50%;\n",
              "      cursor: pointer;\n",
              "      display: none;\n",
              "      fill: #1967D2;\n",
              "      height: 32px;\n",
              "      padding: 0 0 0 0;\n",
              "      width: 32px;\n",
              "    }\n",
              "\n",
              "    .colab-df-convert:hover {\n",
              "      background-color: #E2EBFA;\n",
              "      box-shadow: 0px 1px 2px rgba(60, 64, 67, 0.3), 0px 1px 3px 1px rgba(60, 64, 67, 0.15);\n",
              "      fill: #174EA6;\n",
              "    }\n",
              "\n",
              "    [theme=dark] .colab-df-convert {\n",
              "      background-color: #3B4455;\n",
              "      fill: #D2E3FC;\n",
              "    }\n",
              "\n",
              "    [theme=dark] .colab-df-convert:hover {\n",
              "      background-color: #434B5C;\n",
              "      box-shadow: 0px 1px 3px 1px rgba(0, 0, 0, 0.15);\n",
              "      filter: drop-shadow(0px 1px 2px rgba(0, 0, 0, 0.3));\n",
              "      fill: #FFFFFF;\n",
              "    }\n",
              "  </style>\n",
              "\n",
              "      <script>\n",
              "        const buttonEl =\n",
              "          document.querySelector('#df-5e5e90ca-049c-4791-aebf-7be276e69f60 button.colab-df-convert');\n",
              "        buttonEl.style.display =\n",
              "          google.colab.kernel.accessAllowed ? 'block' : 'none';\n",
              "\n",
              "        async function convertToInteractive(key) {\n",
              "          const element = document.querySelector('#df-5e5e90ca-049c-4791-aebf-7be276e69f60');\n",
              "          const dataTable =\n",
              "            await google.colab.kernel.invokeFunction('convertToInteractive',\n",
              "                                                     [key], {});\n",
              "          if (!dataTable) return;\n",
              "\n",
              "          const docLinkHtml = 'Like what you see? Visit the ' +\n",
              "            '<a target=\"_blank\" href=https://colab.research.google.com/notebooks/data_table.ipynb>data table notebook</a>'\n",
              "            + ' to learn more about interactive tables.';\n",
              "          element.innerHTML = '';\n",
              "          dataTable['output_type'] = 'display_data';\n",
              "          await google.colab.output.renderOutput(dataTable, element);\n",
              "          const docLink = document.createElement('div');\n",
              "          docLink.innerHTML = docLinkHtml;\n",
              "          element.appendChild(docLink);\n",
              "        }\n",
              "      </script>\n",
              "    </div>\n",
              "  </div>\n",
              "  "
            ],
            "text/plain": [
              "                   Time  Hospital_Stay  MRI_Units  CT_Scanners  Hospital_Beds\n",
              "Time           1.000000      -0.360443   0.477647     0.274668       0.477647\n",
              "Hospital_Stay -0.360443       1.000000   0.058874     0.249306       0.058874\n",
              "MRI_Units      0.477647       0.058874   1.000000     0.759864       1.000000\n",
              "CT_Scanners    0.274668       0.249306   0.759864     1.000000       0.759864\n",
              "Hospital_Beds  0.477647       0.058874   1.000000     0.759864       1.000000"
            ]
          },
          "execution_count": 14,
          "metadata": {},
          "output_type": "execute_result"
        }
      ],
      "source": [
        "df.corr()"
      ],
      "id": "t-YMgoNLznmW"
    },
    {
      "cell_type": "code",
      "execution_count": null,
      "metadata": {
        "colab": {
          "base_uri": "https://localhost:8080/",
          "height": 888
        },
        "id": "9Ql6XnHOznyf",
        "outputId": "2da79c79-ce5a-4938-8fd1-ab5936f982c6"
      },
      "outputs": [
        {
          "data": {
            "image/png": "[encoded data removed]",
            "text/plain": [
              "<Figure size 1200x1000 with 2 Axes>"
            ]
          },
          "metadata": {},
          "output_type": "display_data"
        }
      ],
      "source": [
        "f, ax = plt.subplots(figsize=(12, 10))\n",
        "corr = df.corr()\n",
        "ax = sns.heatmap(\n",
        "    corr,annot=True,\n",
        "    vmin=-1, vmax=1, center=0,\n",
        "    cmap=sns.diverging_palette(20, 220, n=200),\n",
        "    square=True\n",
        ")\n",
        "ax.set_xticklabels(\n",
        "    ax.get_xticklabels(),\n",
        "    rotation=45,\n",
        "    horizontalalignment='right'\n",
        ");"
      ],
      "id": "9Ql6XnHOznyf"
    },
    {
      "cell_type": "markdown",
      "metadata": {
        "id": "5kAikrIa0BLN"
      },
      "source": [
        "### Exploratory Data Analysis"
      ],
      "id": "5kAikrIa0BLN"
    },
    {
      "cell_type": "code",
      "execution_count": null,
      "metadata": {
        "colab": {
          "base_uri": "https://localhost:8080/",
          "height": 803
        },
        "id": "LrLLdjsrzn9Q",
        "outputId": "4040e913-03d6-48f7-ad6d-f69fdd7e2cb4"
      },
      "outputs": [
        {
          "data": {
            "image/png": "[encoded data removed]",
            "text/plain": [
              "<Figure size 1100x900 with 1 Axes>"
            ]
          },
          "metadata": {},
          "output_type": "display_data"
        }
      ],
      "source": [
        "sns.set(font_scale=1.2)\n",
        "sns.set_style(\"white\")\n",
        "f, ax = plt.subplots(figsize=(11, 9))\n",
        "sns.distplot(df['Hospital_Stay'], norm_hist=False);\n",
        "plt.ylabel('Probability Density')\n",
        "plt.title('Distribution Plot of Length of Stay')\n",
        "plt.show()"
      ],
      "id": "LrLLdjsrzn9Q"
    },
    {
      "cell_type": "code",
      "execution_count": null,
      "metadata": {
        "colab": {
          "base_uri": "https://localhost:8080/",
          "height": 977
        },
        "id": "laojxrEszoFE",
        "outputId": "e5f59c2e-725e-4a0b-b049-a6efff026d65"
      },
      "outputs": [
        {
          "data": {
            "text/plain": [
              "<seaborn.axisgrid.PairGrid at 0x7fbb6b8fccd0>"
            ]
          },
          "execution_count": 17,
          "metadata": {},
          "output_type": "execute_result"
        },
        {
          "data": {
            "image/png": "[encoded data removed]",
            "text/plain": [
              "<Figure size 1250x1250 with 30 Axes>"
            ]
          },
          "metadata": {},
          "output_type": "display_data"
        }
      ],
      "source": [
        "sns.pairplot(df)"
      ],
      "id": "laojxrEszoFE"
    },
    {
      "cell_type": "code",
      "execution_count": null,
      "metadata": {
        "colab": {
          "base_uri": "https://localhost:8080/",
          "height": 959
        },
        "id": "KbsQiWur28hz",
        "outputId": "f5c47694-6122-495f-e1e1-9d7c2b90aebc"
      },
      "outputs": [
        {
          "data": {
            "image/png": "[encoded data removed]",
            "text/plain": [
              "<Figure size 1400x1400 with 6 Axes>"
            ]
          },
          "metadata": {},
          "output_type": "display_data"
        }
      ],
      "source": [
        "#distribution of the data\n",
        "df.hist(figsize=(14, 14))\n",
        "plt.show()"
      ],
      "id": "KbsQiWur28hz"
    },
    {
      "cell_type": "code",
      "execution_count": null,
      "metadata": {
        "colab": {
          "base_uri": "https://localhost:8080/"
        },
        "id": "k9Qsjab-aYsB",
        "outputId": "49430b01-92c4-4c27-c675-94b0b720141c"
      },
      "outputs": [
        {
          "data": {
            "text/plain": [
              "Location          object\n",
              "Time               int64\n",
              "Hospital_Stay    float64\n",
              "MRI_Units        float64\n",
              "CT_Scanners      float64\n",
              "Hospital_Beds    float64\n",
              "dtype: object"
            ]
          },
          "execution_count": 19,
          "metadata": {},
          "output_type": "execute_result"
        }
      ],
      "source": [
        "df.dtypes"
      ],
      "id": "k9Qsjab-aYsB"
    },
    {
      "cell_type": "markdown",
      "metadata": {
        "id": "olWSgyFEjg7c"
      },
      "source": [
        "#### Drop the Location column"
      ],
      "id": "olWSgyFEjg7c"
    },
    {
      "cell_type": "code",
      "execution_count": null,
      "metadata": {
        "id": "2deIUDnuarzi"
      },
      "outputs": [],
      "source": [
        "df_1 = df.drop('Location', axis=1)"
      ],
      "id": "2deIUDnuarzi"
    },
    {
      "cell_type": "markdown",
      "metadata": {
        "id": "iQmOVn443Jdo"
      },
      "source": [
        "##### Boxplot"
      ],
      "id": "iQmOVn443Jdo"
    },
    {
      "cell_type": "code",
      "execution_count": null,
      "metadata": {
        "colab": {
          "base_uri": "https://localhost:8080/",
          "height": 489
        },
        "id": "KMlYR_Lq0xuh",
        "outputId": "152bd994-c1ce-4067-e914-5353f2aae502"
      },
      "outputs": [
        {
          "data": {
            "image/png": "[encoded data removed]",
            "text/plain": [
              "<Figure size 2000x1000 with 6 Axes>"
            ]
          },
          "metadata": {},
          "output_type": "display_data"
        }
      ],
      "source": [
        "\n",
        "fig, ax = plt.subplots(ncols=3, nrows=2, figsize=(20,10))\n",
        "count = 0\n",
        "ax = ax.flatten()\n",
        "for i, value in df_1.items():\n",
        "     sns.boxplot(y = i, data=df_1, ax=ax[count])\n",
        "     count += 1\n",
        "plt.tight_layout(pad=0.5, w_pad=0.7, h_pad=5.0)"
      ],
      "id": "KMlYR_Lq0xuh"
    },
    {
      "cell_type": "code",
      "execution_count": null,
      "metadata": {
        "colab": {
          "base_uri": "https://localhost:8080/",
          "height": 424
        },
        "id": "lGiVvAHp2efX",
        "outputId": "425f256f-6c86-48d7-c2a9-eb34dc273888"
      },
      "outputs": [
        {
          "data": {
            "text/html": [
              "\n",
              "  <div id=\"df-be008ddb-7d1a-4ae0-9e19-4e4c6349f7e4\">\n",
              "    <div class=\"colab-df-container\">\n",
              "      <div>\n",
              "<style scoped>\n",
              "    .dataframe tbody tr th:only-of-type {\n",
              "        vertical-align: middle;\n",
              "    }\n",
              "\n",
              "    .dataframe tbody tr th {\n",
              "        vertical-align: top;\n",
              "    }\n",
              "\n",
              "    .dataframe thead th {\n",
              "        text-align: right;\n",
              "    }\n",
              "</style>\n",
              "<table border=\"1\" class=\"dataframe\">\n",
              "  <thead>\n",
              "    <tr style=\"text-align: right;\">\n",
              "      <th></th>\n",
              "      <th>Time</th>\n",
              "      <th>Hospital_Stay</th>\n",
              "      <th>MRI_Units</th>\n",
              "      <th>CT_Scanners</th>\n",
              "      <th>Hospital_Beds</th>\n",
              "    </tr>\n",
              "  </thead>\n",
              "  <tbody>\n",
              "    <tr>\n",
              "      <th>0</th>\n",
              "      <td>1992</td>\n",
              "      <td>6.6</td>\n",
              "      <td>1.43</td>\n",
              "      <td>16.71</td>\n",
              "      <td>1.43</td>\n",
              "    </tr>\n",
              "    <tr>\n",
              "      <th>1</th>\n",
              "      <td>1994</td>\n",
              "      <td>6.4</td>\n",
              "      <td>2.36</td>\n",
              "      <td>18.48</td>\n",
              "      <td>2.36</td>\n",
              "    </tr>\n",
              "    <tr>\n",
              "      <th>2</th>\n",
              "      <td>1995</td>\n",
              "      <td>6.5</td>\n",
              "      <td>2.89</td>\n",
              "      <td>20.55</td>\n",
              "      <td>2.89</td>\n",
              "    </tr>\n",
              "    <tr>\n",
              "      <th>3</th>\n",
              "      <td>1996</td>\n",
              "      <td>6.4</td>\n",
              "      <td>2.96</td>\n",
              "      <td>21.95</td>\n",
              "      <td>2.96</td>\n",
              "    </tr>\n",
              "    <tr>\n",
              "      <th>4</th>\n",
              "      <td>1997</td>\n",
              "      <td>6.2</td>\n",
              "      <td>3.53</td>\n",
              "      <td>23.34</td>\n",
              "      <td>3.53</td>\n",
              "    </tr>\n",
              "    <tr>\n",
              "      <th>...</th>\n",
              "      <td>...</td>\n",
              "      <td>...</td>\n",
              "      <td>...</td>\n",
              "      <td>...</td>\n",
              "      <td>...</td>\n",
              "    </tr>\n",
              "    <tr>\n",
              "      <th>513</th>\n",
              "      <td>2014</td>\n",
              "      <td>6.8</td>\n",
              "      <td>10.57</td>\n",
              "      <td>22.17</td>\n",
              "      <td>10.57</td>\n",
              "    </tr>\n",
              "    <tr>\n",
              "      <th>514</th>\n",
              "      <td>2015</td>\n",
              "      <td>6.6</td>\n",
              "      <td>11.02</td>\n",
              "      <td>21.00</td>\n",
              "      <td>11.02</td>\n",
              "    </tr>\n",
              "    <tr>\n",
              "      <th>515</th>\n",
              "      <td>2016</td>\n",
              "      <td>6.6</td>\n",
              "      <td>12.20</td>\n",
              "      <td>23.01</td>\n",
              "      <td>12.20</td>\n",
              "    </tr>\n",
              "    <tr>\n",
              "      <th>516</th>\n",
              "      <td>2017</td>\n",
              "      <td>6.5</td>\n",
              "      <td>12.37</td>\n",
              "      <td>23.33</td>\n",
              "      <td>12.37</td>\n",
              "    </tr>\n",
              "    <tr>\n",
              "      <th>517</th>\n",
              "      <td>2018</td>\n",
              "      <td>6.5</td>\n",
              "      <td>12.49</td>\n",
              "      <td>24.27</td>\n",
              "      <td>12.49</td>\n",
              "    </tr>\n",
              "  </tbody>\n",
              "</table>\n",
              "<p>518 rows × 5 columns</p>\n",
              "</div>\n",
              "      <button class=\"colab-df-convert\" onclick=\"convertToInteractive('df-be008ddb-7d1a-4ae0-9e19-4e4c6349f7e4')\"\n",
              "              title=\"Convert this dataframe to an interactive table.\"\n",
              "              style=\"display:none;\">\n",
              "        \n",
              "  <svg xmlns=\"http://www.w3.org/2000/svg\" height=\"24px\"viewBox=\"0 0 24 24\"\n",
              "       width=\"24px\">\n",
              "    <path d=\"M0 0h24v24H0V0z\" fill=\"none\"/>\n",
              "    <path d=\"M18.56 5.44l.94 2.06.94-2.06 2.06-.94-2.06-.94-.94-2.06-.94 2.06-2.06.94zm-11 1L8.5 8.5l.94-2.06 2.06-.94-2.06-.94L8.5 2.5l-.94 2.06-2.06.94zm10 10l.94 2.06.94-2.06 2.06-.94-2.06-.94-.94-2.06-.94 2.06-2.06.94z\"/><path d=\"M17.41 7.96l-1.37-1.37c-.4-.4-.92-.59-1.43-.59-.52 0-1.04.2-1.43.59L10.3 9.45l-7.72 7.72c-.78.78-.78 2.05 0 2.83L4 21.41c.39.39.9.59 1.41.59.51 0 1.02-.2 1.41-.59l7.78-7.78 2.81-2.81c.8-.78.8-2.07 0-2.86zM5.41 20L4 18.59l7.72-7.72 1.47 1.35L5.41 20z\"/>\n",
              "  </svg>\n",
              "      </button>\n",
              "      \n",
              "  <style>\n",
              "    .colab-df-container {\n",
              "      display:flex;\n",
              "      flex-wrap:wrap;\n",
              "      gap: 12px;\n",
              "    }\n",
              "\n",
              "    .colab-df-convert {\n",
              "      background-color: #E8F0FE;\n",
              "      border: none;\n",
              "      border-radius: 50%;\n",
              "      cursor: pointer;\n",
              "      display: none;\n",
              "      fill: #1967D2;\n",
              "      height: 32px;\n",
              "      padding: 0 0 0 0;\n",
              "      width: 32px;\n",
              "    }\n",
              "\n",
              "    .colab-df-convert:hover {\n",
              "      background-color: #E2EBFA;\n",
              "      box-shadow: 0px 1px 2px rgba(60, 64, 67, 0.3), 0px 1px 3px 1px rgba(60, 64, 67, 0.15);\n",
              "      fill: #174EA6;\n",
              "    }\n",
              "\n",
              "    [theme=dark] .colab-df-convert {\n",
              "      background-color: #3B4455;\n",
              "      fill: #D2E3FC;\n",
              "    }\n",
              "\n",
              "    [theme=dark] .colab-df-convert:hover {\n",
              "      background-color: #434B5C;\n",
              "      box-shadow: 0px 1px 3px 1px rgba(0, 0, 0, 0.15);\n",
              "      filter: drop-shadow(0px 1px 2px rgba(0, 0, 0, 0.3));\n",
              "      fill: #FFFFFF;\n",
              "    }\n",
              "  </style>\n",
              "\n",
              "      <script>\n",
              "        const buttonEl =\n",
              "          document.querySelector('#df-be008ddb-7d1a-4ae0-9e19-4e4c6349f7e4 button.colab-df-convert');\n",
              "        buttonEl.style.display =\n",
              "          google.colab.kernel.accessAllowed ? 'block' : 'none';\n",
              "\n",
              "        async function convertToInteractive(key) {\n",
              "          const element = document.querySelector('#df-be008ddb-7d1a-4ae0-9e19-4e4c6349f7e4');\n",
              "          const dataTable =\n",
              "            await google.colab.kernel.invokeFunction('convertToInteractive',\n",
              "                                                     [key], {});\n",
              "          if (!dataTable) return;\n",
              "\n",
              "          const docLinkHtml = 'Like what you see? Visit the ' +\n",
              "            '<a target=\"_blank\" href=https://colab.research.google.com/notebooks/data_table.ipynb>data table notebook</a>'\n",
              "            + ' to learn more about interactive tables.';\n",
              "          element.innerHTML = '';\n",
              "          dataTable['output_type'] = 'display_data';\n",
              "          await google.colab.output.renderOutput(dataTable, element);\n",
              "          const docLink = document.createElement('div');\n",
              "          docLink.innerHTML = docLinkHtml;\n",
              "          element.appendChild(docLink);\n",
              "        }\n",
              "      </script>\n",
              "    </div>\n",
              "  </div>\n",
              "  "
            ],
            "text/plain": [
              "     Time  Hospital_Stay  MRI_Units  CT_Scanners  Hospital_Beds\n",
              "0    1992            6.6       1.43        16.71           1.43\n",
              "1    1994            6.4       2.36        18.48           2.36\n",
              "2    1995            6.5       2.89        20.55           2.89\n",
              "3    1996            6.4       2.96        21.95           2.96\n",
              "4    1997            6.2       3.53        23.34           3.53\n",
              "..    ...            ...        ...          ...            ...\n",
              "513  2014            6.8      10.57        22.17          10.57\n",
              "514  2015            6.6      11.02        21.00          11.02\n",
              "515  2016            6.6      12.20        23.01          12.20\n",
              "516  2017            6.5      12.37        23.33          12.37\n",
              "517  2018            6.5      12.49        24.27          12.49\n",
              "\n",
              "[518 rows x 5 columns]"
            ]
          },
          "execution_count": 22,
          "metadata": {},
          "output_type": "execute_result"
        }
      ],
      "source": [
        "df_1"
      ],
      "id": "lGiVvAHp2efX"
    },
    {
      "cell_type": "markdown",
      "metadata": {
        "id": "U5E09S_kjSmI"
      },
      "source": [
        "#### Encoding"
      ],
      "id": "U5E09S_kjSmI"
    },
    {
      "cell_type": "code",
      "execution_count": null,
      "metadata": {
        "colab": {
          "base_uri": "https://localhost:8080/",
          "height": 424
        },
        "id": "HSg2TIPxbpDH",
        "outputId": "e79e00fa-aa38-460a-9c46-666327357996"
      },
      "outputs": [
        {
          "data": {
            "text/html": [
              "\n",
              "  <div id=\"df-58f42c8b-02f0-495f-80ff-80bac8effb0f\">\n",
              "    <div class=\"colab-df-container\">\n",
              "      <div>\n",
              "<style scoped>\n",
              "    .dataframe tbody tr th:only-of-type {\n",
              "        vertical-align: middle;\n",
              "    }\n",
              "\n",
              "    .dataframe tbody tr th {\n",
              "        vertical-align: top;\n",
              "    }\n",
              "\n",
              "    .dataframe thead th {\n",
              "        text-align: right;\n",
              "    }\n",
              "</style>\n",
              "<table border=\"1\" class=\"dataframe\">\n",
              "  <thead>\n",
              "    <tr style=\"text-align: right;\">\n",
              "      <th></th>\n",
              "      <th>AUS</th>\n",
              "      <th>AUT</th>\n",
              "      <th>BEL</th>\n",
              "      <th>CAN</th>\n",
              "      <th>CZE</th>\n",
              "      <th>DEU</th>\n",
              "      <th>DNK</th>\n",
              "      <th>ESP</th>\n",
              "      <th>EST</th>\n",
              "      <th>FIN</th>\n",
              "      <th>...</th>\n",
              "      <th>LVA</th>\n",
              "      <th>NLD</th>\n",
              "      <th>NZL</th>\n",
              "      <th>POL</th>\n",
              "      <th>PRT</th>\n",
              "      <th>RUS</th>\n",
              "      <th>SVK</th>\n",
              "      <th>SVN</th>\n",
              "      <th>TUR</th>\n",
              "      <th>USA</th>\n",
              "    </tr>\n",
              "  </thead>\n",
              "  <tbody>\n",
              "    <tr>\n",
              "      <th>0</th>\n",
              "      <td>1</td>\n",
              "      <td>0</td>\n",
              "      <td>0</td>\n",
              "      <td>0</td>\n",
              "      <td>0</td>\n",
              "      <td>0</td>\n",
              "      <td>0</td>\n",
              "      <td>0</td>\n",
              "      <td>0</td>\n",
              "      <td>0</td>\n",
              "      <td>...</td>\n",
              "      <td>0</td>\n",
              "      <td>0</td>\n",
              "      <td>0</td>\n",
              "      <td>0</td>\n",
              "      <td>0</td>\n",
              "      <td>0</td>\n",
              "      <td>0</td>\n",
              "      <td>0</td>\n",
              "      <td>0</td>\n",
              "      <td>0</td>\n",
              "    </tr>\n",
              "    <tr>\n",
              "      <th>1</th>\n",
              "      <td>1</td>\n",
              "      <td>0</td>\n",
              "      <td>0</td>\n",
              "      <td>0</td>\n",
              "      <td>0</td>\n",
              "      <td>0</td>\n",
              "      <td>0</td>\n",
              "      <td>0</td>\n",
              "      <td>0</td>\n",
              "      <td>0</td>\n",
              "      <td>...</td>\n",
              "      <td>0</td>\n",
              "      <td>0</td>\n",
              "      <td>0</td>\n",
              "      <td>0</td>\n",
              "      <td>0</td>\n",
              "      <td>0</td>\n",
              "      <td>0</td>\n",
              "      <td>0</td>\n",
              "      <td>0</td>\n",
              "      <td>0</td>\n",
              "    </tr>\n",
              "    <tr>\n",
              "      <th>2</th>\n",
              "      <td>1</td>\n",
              "      <td>0</td>\n",
              "      <td>0</td>\n",
              "      <td>0</td>\n",
              "      <td>0</td>\n",
              "      <td>0</td>\n",
              "      <td>0</td>\n",
              "      <td>0</td>\n",
              "      <td>0</td>\n",
              "      <td>0</td>\n",
              "      <td>...</td>\n",
              "      <td>0</td>\n",
              "      <td>0</td>\n",
              "      <td>0</td>\n",
              "      <td>0</td>\n",
              "      <td>0</td>\n",
              "      <td>0</td>\n",
              "      <td>0</td>\n",
              "      <td>0</td>\n",
              "      <td>0</td>\n",
              "      <td>0</td>\n",
              "    </tr>\n",
              "    <tr>\n",
              "      <th>3</th>\n",
              "      <td>1</td>\n",
              "      <td>0</td>\n",
              "      <td>0</td>\n",
              "      <td>0</td>\n",
              "      <td>0</td>\n",
              "      <td>0</td>\n",
              "      <td>0</td>\n",
              "      <td>0</td>\n",
              "      <td>0</td>\n",
              "      <td>0</td>\n",
              "      <td>...</td>\n",
              "      <td>0</td>\n",
              "      <td>0</td>\n",
              "      <td>0</td>\n",
              "      <td>0</td>\n",
              "      <td>0</td>\n",
              "      <td>0</td>\n",
              "      <td>0</td>\n",
              "      <td>0</td>\n",
              "      <td>0</td>\n",
              "      <td>0</td>\n",
              "    </tr>\n",
              "    <tr>\n",
              "      <th>4</th>\n",
              "      <td>1</td>\n",
              "      <td>0</td>\n",
              "      <td>0</td>\n",
              "      <td>0</td>\n",
              "      <td>0</td>\n",
              "      <td>0</td>\n",
              "      <td>0</td>\n",
              "      <td>0</td>\n",
              "      <td>0</td>\n",
              "      <td>0</td>\n",
              "      <td>...</td>\n",
              "      <td>0</td>\n",
              "      <td>0</td>\n",
              "      <td>0</td>\n",
              "      <td>0</td>\n",
              "      <td>0</td>\n",
              "      <td>0</td>\n",
              "      <td>0</td>\n",
              "      <td>0</td>\n",
              "      <td>0</td>\n",
              "      <td>0</td>\n",
              "    </tr>\n",
              "    <tr>\n",
              "      <th>...</th>\n",
              "      <td>...</td>\n",
              "      <td>...</td>\n",
              "      <td>...</td>\n",
              "      <td>...</td>\n",
              "      <td>...</td>\n",
              "      <td>...</td>\n",
              "      <td>...</td>\n",
              "      <td>...</td>\n",
              "      <td>...</td>\n",
              "      <td>...</td>\n",
              "      <td>...</td>\n",
              "      <td>...</td>\n",
              "      <td>...</td>\n",
              "      <td>...</td>\n",
              "      <td>...</td>\n",
              "      <td>...</td>\n",
              "      <td>...</td>\n",
              "      <td>...</td>\n",
              "      <td>...</td>\n",
              "      <td>...</td>\n",
              "      <td>...</td>\n",
              "    </tr>\n",
              "    <tr>\n",
              "      <th>513</th>\n",
              "      <td>0</td>\n",
              "      <td>0</td>\n",
              "      <td>0</td>\n",
              "      <td>0</td>\n",
              "      <td>0</td>\n",
              "      <td>0</td>\n",
              "      <td>0</td>\n",
              "      <td>0</td>\n",
              "      <td>0</td>\n",
              "      <td>0</td>\n",
              "      <td>...</td>\n",
              "      <td>0</td>\n",
              "      <td>0</td>\n",
              "      <td>0</td>\n",
              "      <td>0</td>\n",
              "      <td>0</td>\n",
              "      <td>0</td>\n",
              "      <td>0</td>\n",
              "      <td>0</td>\n",
              "      <td>0</td>\n",
              "      <td>0</td>\n",
              "    </tr>\n",
              "    <tr>\n",
              "      <th>514</th>\n",
              "      <td>0</td>\n",
              "      <td>0</td>\n",
              "      <td>0</td>\n",
              "      <td>0</td>\n",
              "      <td>0</td>\n",
              "      <td>0</td>\n",
              "      <td>0</td>\n",
              "      <td>0</td>\n",
              "      <td>0</td>\n",
              "      <td>0</td>\n",
              "      <td>...</td>\n",
              "      <td>0</td>\n",
              "      <td>0</td>\n",
              "      <td>0</td>\n",
              "      <td>0</td>\n",
              "      <td>0</td>\n",
              "      <td>0</td>\n",
              "      <td>0</td>\n",
              "      <td>0</td>\n",
              "      <td>0</td>\n",
              "      <td>0</td>\n",
              "    </tr>\n",
              "    <tr>\n",
              "      <th>515</th>\n",
              "      <td>0</td>\n",
              "      <td>0</td>\n",
              "      <td>0</td>\n",
              "      <td>0</td>\n",
              "      <td>0</td>\n",
              "      <td>0</td>\n",
              "      <td>0</td>\n",
              "      <td>0</td>\n",
              "      <td>0</td>\n",
              "      <td>0</td>\n",
              "      <td>...</td>\n",
              "      <td>0</td>\n",
              "      <td>0</td>\n",
              "      <td>0</td>\n",
              "      <td>0</td>\n",
              "      <td>0</td>\n",
              "      <td>0</td>\n",
              "      <td>0</td>\n",
              "      <td>0</td>\n",
              "      <td>0</td>\n",
              "      <td>0</td>\n",
              "    </tr>\n",
              "    <tr>\n",
              "      <th>516</th>\n",
              "      <td>0</td>\n",
              "      <td>0</td>\n",
              "      <td>0</td>\n",
              "      <td>0</td>\n",
              "      <td>0</td>\n",
              "      <td>0</td>\n",
              "      <td>0</td>\n",
              "      <td>0</td>\n",
              "      <td>0</td>\n",
              "      <td>0</td>\n",
              "      <td>...</td>\n",
              "      <td>0</td>\n",
              "      <td>0</td>\n",
              "      <td>0</td>\n",
              "      <td>0</td>\n",
              "      <td>0</td>\n",
              "      <td>0</td>\n",
              "      <td>0</td>\n",
              "      <td>0</td>\n",
              "      <td>0</td>\n",
              "      <td>0</td>\n",
              "    </tr>\n",
              "    <tr>\n",
              "      <th>517</th>\n",
              "      <td>0</td>\n",
              "      <td>0</td>\n",
              "      <td>0</td>\n",
              "      <td>0</td>\n",
              "      <td>0</td>\n",
              "      <td>0</td>\n",
              "      <td>0</td>\n",
              "      <td>0</td>\n",
              "      <td>0</td>\n",
              "      <td>0</td>\n",
              "      <td>...</td>\n",
              "      <td>0</td>\n",
              "      <td>0</td>\n",
              "      <td>0</td>\n",
              "      <td>0</td>\n",
              "      <td>0</td>\n",
              "      <td>0</td>\n",
              "      <td>0</td>\n",
              "      <td>0</td>\n",
              "      <td>0</td>\n",
              "      <td>0</td>\n",
              "    </tr>\n",
              "  </tbody>\n",
              "</table>\n",
              "<p>518 rows × 32 columns</p>\n",
              "</div>\n",
              "      <button class=\"colab-df-convert\" onclick=\"convertToInteractive('df-58f42c8b-02f0-495f-80ff-80bac8effb0f')\"\n",
              "              title=\"Convert this dataframe to an interactive table.\"\n",
              "              style=\"display:none;\">\n",
              "        \n",
              "  <svg xmlns=\"http://www.w3.org/2000/svg\" height=\"24px\"viewBox=\"0 0 24 24\"\n",
              "       width=\"24px\">\n",
              "    <path d=\"M0 0h24v24H0V0z\" fill=\"none\"/>\n",
              "    <path d=\"M18.56 5.44l.94 2.06.94-2.06 2.06-.94-2.06-.94-.94-2.06-.94 2.06-2.06.94zm-11 1L8.5 8.5l.94-2.06 2.06-.94-2.06-.94L8.5 2.5l-.94 2.06-2.06.94zm10 10l.94 2.06.94-2.06 2.06-.94-2.06-.94-.94-2.06-.94 2.06-2.06.94z\"/><path d=\"M17.41 7.96l-1.37-1.37c-.4-.4-.92-.59-1.43-.59-.52 0-1.04.2-1.43.59L10.3 9.45l-7.72 7.72c-.78.78-.78 2.05 0 2.83L4 21.41c.39.39.9.59 1.41.59.51 0 1.02-.2 1.41-.59l7.78-7.78 2.81-2.81c.8-.78.8-2.07 0-2.86zM5.41 20L4 18.59l7.72-7.72 1.47 1.35L5.41 20z\"/>\n",
              "  </svg>\n",
              "      </button>\n",
              "      \n",
              "  <style>\n",
              "    .colab-df-container {\n",
              "      display:flex;\n",
              "      flex-wrap:wrap;\n",
              "      gap: 12px;\n",
              "    }\n",
              "\n",
              "    .colab-df-convert {\n",
              "      background-color: #E8F0FE;\n",
              "      border: none;\n",
              "      border-radius: 50%;\n",
              "      cursor: pointer;\n",
              "      display: none;\n",
              "      fill: #1967D2;\n",
              "      height: 32px;\n",
              "      padding: 0 0 0 0;\n",
              "      width: 32px;\n",
              "    }\n",
              "\n",
              "    .colab-df-convert:hover {\n",
              "      background-color: #E2EBFA;\n",
              "      box-shadow: 0px 1px 2px rgba(60, 64, 67, 0.3), 0px 1px 3px 1px rgba(60, 64, 67, 0.15);\n",
              "      fill: #174EA6;\n",
              "    }\n",
              "\n",
              "    [theme=dark] .colab-df-convert {\n",
              "      background-color: #3B4455;\n",
              "      fill: #D2E3FC;\n",
              "    }\n",
              "\n",
              "    [theme=dark] .colab-df-convert:hover {\n",
              "      background-color: #434B5C;\n",
              "      box-shadow: 0px 1px 3px 1px rgba(0, 0, 0, 0.15);\n",
              "      filter: drop-shadow(0px 1px 2px rgba(0, 0, 0, 0.3));\n",
              "      fill: #FFFFFF;\n",
              "    }\n",
              "  </style>\n",
              "\n",
              "      <script>\n",
              "        const buttonEl =\n",
              "          document.querySelector('#df-58f42c8b-02f0-495f-80ff-80bac8effb0f button.colab-df-convert');\n",
              "        buttonEl.style.display =\n",
              "          google.colab.kernel.accessAllowed ? 'block' : 'none';\n",
              "\n",
              "        async function convertToInteractive(key) {\n",
              "          const element = document.querySelector('#df-58f42c8b-02f0-495f-80ff-80bac8effb0f');\n",
              "          const dataTable =\n",
              "            await google.colab.kernel.invokeFunction('convertToInteractive',\n",
              "                                                     [key], {});\n",
              "          if (!dataTable) return;\n",
              "\n",
              "          const docLinkHtml = 'Like what you see? Visit the ' +\n",
              "            '<a target=\"_blank\" href=https://colab.research.google.com/notebooks/data_table.ipynb>data table notebook</a>'\n",
              "            + ' to learn more about interactive tables.';\n",
              "          element.innerHTML = '';\n",
              "          dataTable['output_type'] = 'display_data';\n",
              "          await google.colab.output.renderOutput(dataTable, element);\n",
              "          const docLink = document.createElement('div');\n",
              "          docLink.innerHTML = docLinkHtml;\n",
              "          element.appendChild(docLink);\n",
              "        }\n",
              "      </script>\n",
              "    </div>\n",
              "  </div>\n",
              "  "
            ],
            "text/plain": [
              "     AUS  AUT  BEL  CAN  CZE  DEU  DNK  ESP  EST  FIN  ...  LVA  NLD  NZL  \\\n",
              "0      1    0    0    0    0    0    0    0    0    0  ...    0    0    0   \n",
              "1      1    0    0    0    0    0    0    0    0    0  ...    0    0    0   \n",
              "2      1    0    0    0    0    0    0    0    0    0  ...    0    0    0   \n",
              "3      1    0    0    0    0    0    0    0    0    0  ...    0    0    0   \n",
              "4      1    0    0    0    0    0    0    0    0    0  ...    0    0    0   \n",
              "..   ...  ...  ...  ...  ...  ...  ...  ...  ...  ...  ...  ...  ...  ...   \n",
              "513    0    0    0    0    0    0    0    0    0    0  ...    0    0    0   \n",
              "514    0    0    0    0    0    0    0    0    0    0  ...    0    0    0   \n",
              "515    0    0    0    0    0    0    0    0    0    0  ...    0    0    0   \n",
              "516    0    0    0    0    0    0    0    0    0    0  ...    0    0    0   \n",
              "517    0    0    0    0    0    0    0    0    0    0  ...    0    0    0   \n",
              "\n",
              "     POL  PRT  RUS  SVK  SVN  TUR  USA  \n",
              "0      0    0    0    0    0    0    0  \n",
              "1      0    0    0    0    0    0    0  \n",
              "2      0    0    0    0    0    0    0  \n",
              "3      0    0    0    0    0    0    0  \n",
              "4      0    0    0    0    0    0    0  \n",
              "..   ...  ...  ...  ...  ...  ...  ...  \n",
              "513    0    0    0    0    0    0    0  \n",
              "514    0    0    0    0    0    0    0  \n",
              "515    0    0    0    0    0    0    0  \n",
              "516    0    0    0    0    0    0    0  \n",
              "517    0    0    0    0    0    0    0  \n",
              "\n",
              "[518 rows x 32 columns]"
            ]
          },
          "execution_count": 23,
          "metadata": {},
          "output_type": "execute_result"
        }
      ],
      "source": [
        "dummies = pd.get_dummies(df[\"Location\"])\n",
        "\n",
        "dummies"
      ],
      "id": "HSg2TIPxbpDH"
    },
    {
      "cell_type": "code",
      "execution_count": null,
      "metadata": {
        "id": "qpOkV--1b--w"
      },
      "outputs": [],
      "source": [
        "df1 = pd.concat([df_1, dummies], axis=1)"
      ],
      "id": "qpOkV--1b--w"
    },
    {
      "cell_type": "code",
      "execution_count": null,
      "metadata": {
        "colab": {
          "base_uri": "https://localhost:8080/",
          "height": 488
        },
        "id": "N0t5RlKUdVcH",
        "outputId": "36241556-34d1-4a95-8aee-df230ebffd64"
      },
      "outputs": [
        {
          "data": {
            "text/html": [
              "\n",
              "  <div id=\"df-0049566e-ccc4-49dd-8145-d7f3aabd95ea\">\n",
              "    <div class=\"colab-df-container\">\n",
              "      <div>\n",
              "<style scoped>\n",
              "    .dataframe tbody tr th:only-of-type {\n",
              "        vertical-align: middle;\n",
              "    }\n",
              "\n",
              "    .dataframe tbody tr th {\n",
              "        vertical-align: top;\n",
              "    }\n",
              "\n",
              "    .dataframe thead th {\n",
              "        text-align: right;\n",
              "    }\n",
              "</style>\n",
              "<table border=\"1\" class=\"dataframe\">\n",
              "  <thead>\n",
              "    <tr style=\"text-align: right;\">\n",
              "      <th></th>\n",
              "      <th>Time</th>\n",
              "      <th>Hospital_Stay</th>\n",
              "      <th>MRI_Units</th>\n",
              "      <th>CT_Scanners</th>\n",
              "      <th>Hospital_Beds</th>\n",
              "      <th>AUS</th>\n",
              "      <th>AUT</th>\n",
              "      <th>BEL</th>\n",
              "      <th>CAN</th>\n",
              "      <th>CZE</th>\n",
              "      <th>...</th>\n",
              "      <th>LVA</th>\n",
              "      <th>NLD</th>\n",
              "      <th>NZL</th>\n",
              "      <th>POL</th>\n",
              "      <th>PRT</th>\n",
              "      <th>RUS</th>\n",
              "      <th>SVK</th>\n",
              "      <th>SVN</th>\n",
              "      <th>TUR</th>\n",
              "      <th>USA</th>\n",
              "    </tr>\n",
              "  </thead>\n",
              "  <tbody>\n",
              "    <tr>\n",
              "      <th>0</th>\n",
              "      <td>1992</td>\n",
              "      <td>6.6</td>\n",
              "      <td>1.43</td>\n",
              "      <td>16.71</td>\n",
              "      <td>1.43</td>\n",
              "      <td>1</td>\n",
              "      <td>0</td>\n",
              "      <td>0</td>\n",
              "      <td>0</td>\n",
              "      <td>0</td>\n",
              "      <td>...</td>\n",
              "      <td>0</td>\n",
              "      <td>0</td>\n",
              "      <td>0</td>\n",
              "      <td>0</td>\n",
              "      <td>0</td>\n",
              "      <td>0</td>\n",
              "      <td>0</td>\n",
              "      <td>0</td>\n",
              "      <td>0</td>\n",
              "      <td>0</td>\n",
              "    </tr>\n",
              "    <tr>\n",
              "      <th>1</th>\n",
              "      <td>1994</td>\n",
              "      <td>6.4</td>\n",
              "      <td>2.36</td>\n",
              "      <td>18.48</td>\n",
              "      <td>2.36</td>\n",
              "      <td>1</td>\n",
              "      <td>0</td>\n",
              "      <td>0</td>\n",
              "      <td>0</td>\n",
              "      <td>0</td>\n",
              "      <td>...</td>\n",
              "      <td>0</td>\n",
              "      <td>0</td>\n",
              "      <td>0</td>\n",
              "      <td>0</td>\n",
              "      <td>0</td>\n",
              "      <td>0</td>\n",
              "      <td>0</td>\n",
              "      <td>0</td>\n",
              "      <td>0</td>\n",
              "      <td>0</td>\n",
              "    </tr>\n",
              "    <tr>\n",
              "      <th>2</th>\n",
              "      <td>1995</td>\n",
              "      <td>6.5</td>\n",
              "      <td>2.89</td>\n",
              "      <td>20.55</td>\n",
              "      <td>2.89</td>\n",
              "      <td>1</td>\n",
              "      <td>0</td>\n",
              "      <td>0</td>\n",
              "      <td>0</td>\n",
              "      <td>0</td>\n",
              "      <td>...</td>\n",
              "      <td>0</td>\n",
              "      <td>0</td>\n",
              "      <td>0</td>\n",
              "      <td>0</td>\n",
              "      <td>0</td>\n",
              "      <td>0</td>\n",
              "      <td>0</td>\n",
              "      <td>0</td>\n",
              "      <td>0</td>\n",
              "      <td>0</td>\n",
              "    </tr>\n",
              "    <tr>\n",
              "      <th>3</th>\n",
              "      <td>1996</td>\n",
              "      <td>6.4</td>\n",
              "      <td>2.96</td>\n",
              "      <td>21.95</td>\n",
              "      <td>2.96</td>\n",
              "      <td>1</td>\n",
              "      <td>0</td>\n",
              "      <td>0</td>\n",
              "      <td>0</td>\n",
              "      <td>0</td>\n",
              "      <td>...</td>\n",
              "      <td>0</td>\n",
              "      <td>0</td>\n",
              "      <td>0</td>\n",
              "      <td>0</td>\n",
              "      <td>0</td>\n",
              "      <td>0</td>\n",
              "      <td>0</td>\n",
              "      <td>0</td>\n",
              "      <td>0</td>\n",
              "      <td>0</td>\n",
              "    </tr>\n",
              "    <tr>\n",
              "      <th>4</th>\n",
              "      <td>1997</td>\n",
              "      <td>6.2</td>\n",
              "      <td>3.53</td>\n",
              "      <td>23.34</td>\n",
              "      <td>3.53</td>\n",
              "      <td>1</td>\n",
              "      <td>0</td>\n",
              "      <td>0</td>\n",
              "      <td>0</td>\n",
              "      <td>0</td>\n",
              "      <td>...</td>\n",
              "      <td>0</td>\n",
              "      <td>0</td>\n",
              "      <td>0</td>\n",
              "      <td>0</td>\n",
              "      <td>0</td>\n",
              "      <td>0</td>\n",
              "      <td>0</td>\n",
              "      <td>0</td>\n",
              "      <td>0</td>\n",
              "      <td>0</td>\n",
              "    </tr>\n",
              "    <tr>\n",
              "      <th>...</th>\n",
              "      <td>...</td>\n",
              "      <td>...</td>\n",
              "      <td>...</td>\n",
              "      <td>...</td>\n",
              "      <td>...</td>\n",
              "      <td>...</td>\n",
              "      <td>...</td>\n",
              "      <td>...</td>\n",
              "      <td>...</td>\n",
              "      <td>...</td>\n",
              "      <td>...</td>\n",
              "      <td>...</td>\n",
              "      <td>...</td>\n",
              "      <td>...</td>\n",
              "      <td>...</td>\n",
              "      <td>...</td>\n",
              "      <td>...</td>\n",
              "      <td>...</td>\n",
              "      <td>...</td>\n",
              "      <td>...</td>\n",
              "      <td>...</td>\n",
              "    </tr>\n",
              "    <tr>\n",
              "      <th>513</th>\n",
              "      <td>2014</td>\n",
              "      <td>6.8</td>\n",
              "      <td>10.57</td>\n",
              "      <td>22.17</td>\n",
              "      <td>10.57</td>\n",
              "      <td>0</td>\n",
              "      <td>0</td>\n",
              "      <td>0</td>\n",
              "      <td>0</td>\n",
              "      <td>0</td>\n",
              "      <td>...</td>\n",
              "      <td>0</td>\n",
              "      <td>0</td>\n",
              "      <td>0</td>\n",
              "      <td>0</td>\n",
              "      <td>0</td>\n",
              "      <td>0</td>\n",
              "      <td>0</td>\n",
              "      <td>0</td>\n",
              "      <td>0</td>\n",
              "      <td>0</td>\n",
              "    </tr>\n",
              "    <tr>\n",
              "      <th>514</th>\n",
              "      <td>2015</td>\n",
              "      <td>6.6</td>\n",
              "      <td>11.02</td>\n",
              "      <td>21.00</td>\n",
              "      <td>11.02</td>\n",
              "      <td>0</td>\n",
              "      <td>0</td>\n",
              "      <td>0</td>\n",
              "      <td>0</td>\n",
              "      <td>0</td>\n",
              "      <td>...</td>\n",
              "      <td>0</td>\n",
              "      <td>0</td>\n",
              "      <td>0</td>\n",
              "      <td>0</td>\n",
              "      <td>0</td>\n",
              "      <td>0</td>\n",
              "      <td>0</td>\n",
              "      <td>0</td>\n",
              "      <td>0</td>\n",
              "      <td>0</td>\n",
              "    </tr>\n",
              "    <tr>\n",
              "      <th>515</th>\n",
              "      <td>2016</td>\n",
              "      <td>6.6</td>\n",
              "      <td>12.20</td>\n",
              "      <td>23.01</td>\n",
              "      <td>12.20</td>\n",
              "      <td>0</td>\n",
              "      <td>0</td>\n",
              "      <td>0</td>\n",
              "      <td>0</td>\n",
              "      <td>0</td>\n",
              "      <td>...</td>\n",
              "      <td>0</td>\n",
              "      <td>0</td>\n",
              "      <td>0</td>\n",
              "      <td>0</td>\n",
              "      <td>0</td>\n",
              "      <td>0</td>\n",
              "      <td>0</td>\n",
              "      <td>0</td>\n",
              "      <td>0</td>\n",
              "      <td>0</td>\n",
              "    </tr>\n",
              "    <tr>\n",
              "      <th>516</th>\n",
              "      <td>2017</td>\n",
              "      <td>6.5</td>\n",
              "      <td>12.37</td>\n",
              "      <td>23.33</td>\n",
              "      <td>12.37</td>\n",
              "      <td>0</td>\n",
              "      <td>0</td>\n",
              "      <td>0</td>\n",
              "      <td>0</td>\n",
              "      <td>0</td>\n",
              "      <td>...</td>\n",
              "      <td>0</td>\n",
              "      <td>0</td>\n",
              "      <td>0</td>\n",
              "      <td>0</td>\n",
              "      <td>0</td>\n",
              "      <td>0</td>\n",
              "      <td>0</td>\n",
              "      <td>0</td>\n",
              "      <td>0</td>\n",
              "      <td>0</td>\n",
              "    </tr>\n",
              "    <tr>\n",
              "      <th>517</th>\n",
              "      <td>2018</td>\n",
              "      <td>6.5</td>\n",
              "      <td>12.49</td>\n",
              "      <td>24.27</td>\n",
              "      <td>12.49</td>\n",
              "      <td>0</td>\n",
              "      <td>0</td>\n",
              "      <td>0</td>\n",
              "      <td>0</td>\n",
              "      <td>0</td>\n",
              "      <td>...</td>\n",
              "      <td>0</td>\n",
              "      <td>0</td>\n",
              "      <td>0</td>\n",
              "      <td>0</td>\n",
              "      <td>0</td>\n",
              "      <td>0</td>\n",
              "      <td>0</td>\n",
              "      <td>0</td>\n",
              "      <td>0</td>\n",
              "      <td>0</td>\n",
              "    </tr>\n",
              "  </tbody>\n",
              "</table>\n",
              "<p>518 rows × 37 columns</p>\n",
              "</div>\n",
              "      <button class=\"colab-df-convert\" onclick=\"convertToInteractive('df-0049566e-ccc4-49dd-8145-d7f3aabd95ea')\"\n",
              "              title=\"Convert this dataframe to an interactive table.\"\n",
              "              style=\"display:none;\">\n",
              "        \n",
              "  <svg xmlns=\"http://www.w3.org/2000/svg\" height=\"24px\"viewBox=\"0 0 24 24\"\n",
              "       width=\"24px\">\n",
              "    <path d=\"M0 0h24v24H0V0z\" fill=\"none\"/>\n",
              "    <path d=\"M18.56 5.44l.94 2.06.94-2.06 2.06-.94-2.06-.94-.94-2.06-.94 2.06-2.06.94zm-11 1L8.5 8.5l.94-2.06 2.06-.94-2.06-.94L8.5 2.5l-.94 2.06-2.06.94zm10 10l.94 2.06.94-2.06 2.06-.94-2.06-.94-.94-2.06-.94 2.06-2.06.94z\"/><path d=\"M17.41 7.96l-1.37-1.37c-.4-.4-.92-.59-1.43-.59-.52 0-1.04.2-1.43.59L10.3 9.45l-7.72 7.72c-.78.78-.78 2.05 0 2.83L4 21.41c.39.39.9.59 1.41.59.51 0 1.02-.2 1.41-.59l7.78-7.78 2.81-2.81c.8-.78.8-2.07 0-2.86zM5.41 20L4 18.59l7.72-7.72 1.47 1.35L5.41 20z\"/>\n",
              "  </svg>\n",
              "      </button>\n",
              "      \n",
              "  <style>\n",
              "    .colab-df-container {\n",
              "      display:flex;\n",
              "      flex-wrap:wrap;\n",
              "      gap: 12px;\n",
              "    }\n",
              "\n",
              "    .colab-df-convert {\n",
              "      background-color: #E8F0FE;\n",
              "      border: none;\n",
              "      border-radius: 50%;\n",
              "      cursor: pointer;\n",
              "      display: none;\n",
              "      fill: #1967D2;\n",
              "      height: 32px;\n",
              "      padding: 0 0 0 0;\n",
              "      width: 32px;\n",
              "    }\n",
              "\n",
              "    .colab-df-convert:hover {\n",
              "      background-color: #E2EBFA;\n",
              "      box-shadow: 0px 1px 2px rgba(60, 64, 67, 0.3), 0px 1px 3px 1px rgba(60, 64, 67, 0.15);\n",
              "      fill: #174EA6;\n",
              "    }\n",
              "\n",
              "    [theme=dark] .colab-df-convert {\n",
              "      background-color: #3B4455;\n",
              "      fill: #D2E3FC;\n",
              "    }\n",
              "\n",
              "    [theme=dark] .colab-df-convert:hover {\n",
              "      background-color: #434B5C;\n",
              "      box-shadow: 0px 1px 3px 1px rgba(0, 0, 0, 0.15);\n",
              "      filter: drop-shadow(0px 1px 2px rgba(0, 0, 0, 0.3));\n",
              "      fill: #FFFFFF;\n",
              "    }\n",
              "  </style>\n",
              "\n",
              "      <script>\n",
              "        const buttonEl =\n",
              "          document.querySelector('#df-0049566e-ccc4-49dd-8145-d7f3aabd95ea button.colab-df-convert');\n",
              "        buttonEl.style.display =\n",
              "          google.colab.kernel.accessAllowed ? 'block' : 'none';\n",
              "\n",
              "        async function convertToInteractive(key) {\n",
              "          const element = document.querySelector('#df-0049566e-ccc4-49dd-8145-d7f3aabd95ea');\n",
              "          const dataTable =\n",
              "            await google.colab.kernel.invokeFunction('convertToInteractive',\n",
              "                                                     [key], {});\n",
              "          if (!dataTable) return;\n",
              "\n",
              "          const docLinkHtml = 'Like what you see? Visit the ' +\n",
              "            '<a target=\"_blank\" href=https://colab.research.google.com/notebooks/data_table.ipynb>data table notebook</a>'\n",
              "            + ' to learn more about interactive tables.';\n",
              "          element.innerHTML = '';\n",
              "          dataTable['output_type'] = 'display_data';\n",
              "          await google.colab.output.renderOutput(dataTable, element);\n",
              "          const docLink = document.createElement('div');\n",
              "          docLink.innerHTML = docLinkHtml;\n",
              "          element.appendChild(docLink);\n",
              "        }\n",
              "      </script>\n",
              "    </div>\n",
              "  </div>\n",
              "  "
            ],
            "text/plain": [
              "     Time  Hospital_Stay  MRI_Units  CT_Scanners  Hospital_Beds  AUS  AUT  \\\n",
              "0    1992            6.6       1.43        16.71           1.43    1    0   \n",
              "1    1994            6.4       2.36        18.48           2.36    1    0   \n",
              "2    1995            6.5       2.89        20.55           2.89    1    0   \n",
              "3    1996            6.4       2.96        21.95           2.96    1    0   \n",
              "4    1997            6.2       3.53        23.34           3.53    1    0   \n",
              "..    ...            ...        ...          ...            ...  ...  ...   \n",
              "513  2014            6.8      10.57        22.17          10.57    0    0   \n",
              "514  2015            6.6      11.02        21.00          11.02    0    0   \n",
              "515  2016            6.6      12.20        23.01          12.20    0    0   \n",
              "516  2017            6.5      12.37        23.33          12.37    0    0   \n",
              "517  2018            6.5      12.49        24.27          12.49    0    0   \n",
              "\n",
              "     BEL  CAN  CZE  ...  LVA  NLD  NZL  POL  PRT  RUS  SVK  SVN  TUR  USA  \n",
              "0      0    0    0  ...    0    0    0    0    0    0    0    0    0    0  \n",
              "1      0    0    0  ...    0    0    0    0    0    0    0    0    0    0  \n",
              "2      0    0    0  ...    0    0    0    0    0    0    0    0    0    0  \n",
              "3      0    0    0  ...    0    0    0    0    0    0    0    0    0    0  \n",
              "4      0    0    0  ...    0    0    0    0    0    0    0    0    0    0  \n",
              "..   ...  ...  ...  ...  ...  ...  ...  ...  ...  ...  ...  ...  ...  ...  \n",
              "513    0    0    0  ...    0    0    0    0    0    0    0    0    0    0  \n",
              "514    0    0    0  ...    0    0    0    0    0    0    0    0    0    0  \n",
              "515    0    0    0  ...    0    0    0    0    0    0    0    0    0    0  \n",
              "516    0    0    0  ...    0    0    0    0    0    0    0    0    0    0  \n",
              "517    0    0    0  ...    0    0    0    0    0    0    0    0    0    0  \n",
              "\n",
              "[518 rows x 37 columns]"
            ]
          },
          "execution_count": 25,
          "metadata": {},
          "output_type": "execute_result"
        }
      ],
      "source": [
        "df1"
      ],
      "id": "N0t5RlKUdVcH"
    },
    {
      "cell_type": "code",
      "execution_count": null,
      "metadata": {
        "colab": {
          "base_uri": "https://localhost:8080/",
          "height": 488
        },
        "id": "EKntil4ycP0-",
        "outputId": "7e9967a0-485c-4d51-8497-8e49b741e89e"
      },
      "outputs": [
        {
          "data": {
            "text/html": [
              "\n",
              "  <div id=\"df-e50fbb1d-ad50-4320-93d2-42d36d0a1bfa\">\n",
              "    <div class=\"colab-df-container\">\n",
              "      <div>\n",
              "<style scoped>\n",
              "    .dataframe tbody tr th:only-of-type {\n",
              "        vertical-align: middle;\n",
              "    }\n",
              "\n",
              "    .dataframe tbody tr th {\n",
              "        vertical-align: top;\n",
              "    }\n",
              "\n",
              "    .dataframe thead th {\n",
              "        text-align: right;\n",
              "    }\n",
              "</style>\n",
              "<table border=\"1\" class=\"dataframe\">\n",
              "  <thead>\n",
              "    <tr style=\"text-align: right;\">\n",
              "      <th></th>\n",
              "      <th>Time</th>\n",
              "      <th>Hospital_Stay</th>\n",
              "      <th>MRI_Units</th>\n",
              "      <th>CT_Scanners</th>\n",
              "      <th>Hospital_Beds</th>\n",
              "      <th>AUS</th>\n",
              "      <th>AUT</th>\n",
              "      <th>BEL</th>\n",
              "      <th>CAN</th>\n",
              "      <th>CZE</th>\n",
              "      <th>...</th>\n",
              "      <th>LVA</th>\n",
              "      <th>NLD</th>\n",
              "      <th>NZL</th>\n",
              "      <th>POL</th>\n",
              "      <th>PRT</th>\n",
              "      <th>RUS</th>\n",
              "      <th>SVK</th>\n",
              "      <th>SVN</th>\n",
              "      <th>TUR</th>\n",
              "      <th>USA</th>\n",
              "    </tr>\n",
              "  </thead>\n",
              "  <tbody>\n",
              "    <tr>\n",
              "      <th>0</th>\n",
              "      <td>1992</td>\n",
              "      <td>6.6</td>\n",
              "      <td>1.43</td>\n",
              "      <td>16.71</td>\n",
              "      <td>1.43</td>\n",
              "      <td>1</td>\n",
              "      <td>0</td>\n",
              "      <td>0</td>\n",
              "      <td>0</td>\n",
              "      <td>0</td>\n",
              "      <td>...</td>\n",
              "      <td>0</td>\n",
              "      <td>0</td>\n",
              "      <td>0</td>\n",
              "      <td>0</td>\n",
              "      <td>0</td>\n",
              "      <td>0</td>\n",
              "      <td>0</td>\n",
              "      <td>0</td>\n",
              "      <td>0</td>\n",
              "      <td>0</td>\n",
              "    </tr>\n",
              "    <tr>\n",
              "      <th>1</th>\n",
              "      <td>1994</td>\n",
              "      <td>6.4</td>\n",
              "      <td>2.36</td>\n",
              "      <td>18.48</td>\n",
              "      <td>2.36</td>\n",
              "      <td>1</td>\n",
              "      <td>0</td>\n",
              "      <td>0</td>\n",
              "      <td>0</td>\n",
              "      <td>0</td>\n",
              "      <td>...</td>\n",
              "      <td>0</td>\n",
              "      <td>0</td>\n",
              "      <td>0</td>\n",
              "      <td>0</td>\n",
              "      <td>0</td>\n",
              "      <td>0</td>\n",
              "      <td>0</td>\n",
              "      <td>0</td>\n",
              "      <td>0</td>\n",
              "      <td>0</td>\n",
              "    </tr>\n",
              "    <tr>\n",
              "      <th>2</th>\n",
              "      <td>1995</td>\n",
              "      <td>6.5</td>\n",
              "      <td>2.89</td>\n",
              "      <td>20.55</td>\n",
              "      <td>2.89</td>\n",
              "      <td>1</td>\n",
              "      <td>0</td>\n",
              "      <td>0</td>\n",
              "      <td>0</td>\n",
              "      <td>0</td>\n",
              "      <td>...</td>\n",
              "      <td>0</td>\n",
              "      <td>0</td>\n",
              "      <td>0</td>\n",
              "      <td>0</td>\n",
              "      <td>0</td>\n",
              "      <td>0</td>\n",
              "      <td>0</td>\n",
              "      <td>0</td>\n",
              "      <td>0</td>\n",
              "      <td>0</td>\n",
              "    </tr>\n",
              "    <tr>\n",
              "      <th>3</th>\n",
              "      <td>1996</td>\n",
              "      <td>6.4</td>\n",
              "      <td>2.96</td>\n",
              "      <td>21.95</td>\n",
              "      <td>2.96</td>\n",
              "      <td>1</td>\n",
              "      <td>0</td>\n",
              "      <td>0</td>\n",
              "      <td>0</td>\n",
              "      <td>0</td>\n",
              "      <td>...</td>\n",
              "      <td>0</td>\n",
              "      <td>0</td>\n",
              "      <td>0</td>\n",
              "      <td>0</td>\n",
              "      <td>0</td>\n",
              "      <td>0</td>\n",
              "      <td>0</td>\n",
              "      <td>0</td>\n",
              "      <td>0</td>\n",
              "      <td>0</td>\n",
              "    </tr>\n",
              "    <tr>\n",
              "      <th>4</th>\n",
              "      <td>1997</td>\n",
              "      <td>6.2</td>\n",
              "      <td>3.53</td>\n",
              "      <td>23.34</td>\n",
              "      <td>3.53</td>\n",
              "      <td>1</td>\n",
              "      <td>0</td>\n",
              "      <td>0</td>\n",
              "      <td>0</td>\n",
              "      <td>0</td>\n",
              "      <td>...</td>\n",
              "      <td>0</td>\n",
              "      <td>0</td>\n",
              "      <td>0</td>\n",
              "      <td>0</td>\n",
              "      <td>0</td>\n",
              "      <td>0</td>\n",
              "      <td>0</td>\n",
              "      <td>0</td>\n",
              "      <td>0</td>\n",
              "      <td>0</td>\n",
              "    </tr>\n",
              "    <tr>\n",
              "      <th>...</th>\n",
              "      <td>...</td>\n",
              "      <td>...</td>\n",
              "      <td>...</td>\n",
              "      <td>...</td>\n",
              "      <td>...</td>\n",
              "      <td>...</td>\n",
              "      <td>...</td>\n",
              "      <td>...</td>\n",
              "      <td>...</td>\n",
              "      <td>...</td>\n",
              "      <td>...</td>\n",
              "      <td>...</td>\n",
              "      <td>...</td>\n",
              "      <td>...</td>\n",
              "      <td>...</td>\n",
              "      <td>...</td>\n",
              "      <td>...</td>\n",
              "      <td>...</td>\n",
              "      <td>...</td>\n",
              "      <td>...</td>\n",
              "      <td>...</td>\n",
              "    </tr>\n",
              "    <tr>\n",
              "      <th>513</th>\n",
              "      <td>2014</td>\n",
              "      <td>6.8</td>\n",
              "      <td>10.57</td>\n",
              "      <td>22.17</td>\n",
              "      <td>10.57</td>\n",
              "      <td>0</td>\n",
              "      <td>0</td>\n",
              "      <td>0</td>\n",
              "      <td>0</td>\n",
              "      <td>0</td>\n",
              "      <td>...</td>\n",
              "      <td>0</td>\n",
              "      <td>0</td>\n",
              "      <td>0</td>\n",
              "      <td>0</td>\n",
              "      <td>0</td>\n",
              "      <td>0</td>\n",
              "      <td>0</td>\n",
              "      <td>0</td>\n",
              "      <td>0</td>\n",
              "      <td>0</td>\n",
              "    </tr>\n",
              "    <tr>\n",
              "      <th>514</th>\n",
              "      <td>2015</td>\n",
              "      <td>6.6</td>\n",
              "      <td>11.02</td>\n",
              "      <td>21.00</td>\n",
              "      <td>11.02</td>\n",
              "      <td>0</td>\n",
              "      <td>0</td>\n",
              "      <td>0</td>\n",
              "      <td>0</td>\n",
              "      <td>0</td>\n",
              "      <td>...</td>\n",
              "      <td>0</td>\n",
              "      <td>0</td>\n",
              "      <td>0</td>\n",
              "      <td>0</td>\n",
              "      <td>0</td>\n",
              "      <td>0</td>\n",
              "      <td>0</td>\n",
              "      <td>0</td>\n",
              "      <td>0</td>\n",
              "      <td>0</td>\n",
              "    </tr>\n",
              "    <tr>\n",
              "      <th>515</th>\n",
              "      <td>2016</td>\n",
              "      <td>6.6</td>\n",
              "      <td>12.20</td>\n",
              "      <td>23.01</td>\n",
              "      <td>12.20</td>\n",
              "      <td>0</td>\n",
              "      <td>0</td>\n",
              "      <td>0</td>\n",
              "      <td>0</td>\n",
              "      <td>0</td>\n",
              "      <td>...</td>\n",
              "      <td>0</td>\n",
              "      <td>0</td>\n",
              "      <td>0</td>\n",
              "      <td>0</td>\n",
              "      <td>0</td>\n",
              "      <td>0</td>\n",
              "      <td>0</td>\n",
              "      <td>0</td>\n",
              "      <td>0</td>\n",
              "      <td>0</td>\n",
              "    </tr>\n",
              "    <tr>\n",
              "      <th>516</th>\n",
              "      <td>2017</td>\n",
              "      <td>6.5</td>\n",
              "      <td>12.37</td>\n",
              "      <td>23.33</td>\n",
              "      <td>12.37</td>\n",
              "      <td>0</td>\n",
              "      <td>0</td>\n",
              "      <td>0</td>\n",
              "      <td>0</td>\n",
              "      <td>0</td>\n",
              "      <td>...</td>\n",
              "      <td>0</td>\n",
              "      <td>0</td>\n",
              "      <td>0</td>\n",
              "      <td>0</td>\n",
              "      <td>0</td>\n",
              "      <td>0</td>\n",
              "      <td>0</td>\n",
              "      <td>0</td>\n",
              "      <td>0</td>\n",
              "      <td>0</td>\n",
              "    </tr>\n",
              "    <tr>\n",
              "      <th>517</th>\n",
              "      <td>2018</td>\n",
              "      <td>6.5</td>\n",
              "      <td>12.49</td>\n",
              "      <td>24.27</td>\n",
              "      <td>12.49</td>\n",
              "      <td>0</td>\n",
              "      <td>0</td>\n",
              "      <td>0</td>\n",
              "      <td>0</td>\n",
              "      <td>0</td>\n",
              "      <td>...</td>\n",
              "      <td>0</td>\n",
              "      <td>0</td>\n",
              "      <td>0</td>\n",
              "      <td>0</td>\n",
              "      <td>0</td>\n",
              "      <td>0</td>\n",
              "      <td>0</td>\n",
              "      <td>0</td>\n",
              "      <td>0</td>\n",
              "      <td>0</td>\n",
              "    </tr>\n",
              "  </tbody>\n",
              "</table>\n",
              "<p>518 rows × 37 columns</p>\n",
              "</div>\n",
              "      <button class=\"colab-df-convert\" onclick=\"convertToInteractive('df-e50fbb1d-ad50-4320-93d2-42d36d0a1bfa')\"\n",
              "              title=\"Convert this dataframe to an interactive table.\"\n",
              "              style=\"display:none;\">\n",
              "        \n",
              "  <svg xmlns=\"http://www.w3.org/2000/svg\" height=\"24px\"viewBox=\"0 0 24 24\"\n",
              "       width=\"24px\">\n",
              "    <path d=\"M0 0h24v24H0V0z\" fill=\"none\"/>\n",
              "    <path d=\"M18.56 5.44l.94 2.06.94-2.06 2.06-.94-2.06-.94-.94-2.06-.94 2.06-2.06.94zm-11 1L8.5 8.5l.94-2.06 2.06-.94-2.06-.94L8.5 2.5l-.94 2.06-2.06.94zm10 10l.94 2.06.94-2.06 2.06-.94-2.06-.94-.94-2.06-.94 2.06-2.06.94z\"/><path d=\"M17.41 7.96l-1.37-1.37c-.4-.4-.92-.59-1.43-.59-.52 0-1.04.2-1.43.59L10.3 9.45l-7.72 7.72c-.78.78-.78 2.05 0 2.83L4 21.41c.39.39.9.59 1.41.59.51 0 1.02-.2 1.41-.59l7.78-7.78 2.81-2.81c.8-.78.8-2.07 0-2.86zM5.41 20L4 18.59l7.72-7.72 1.47 1.35L5.41 20z\"/>\n",
              "  </svg>\n",
              "      </button>\n",
              "      \n",
              "  <style>\n",
              "    .colab-df-container {\n",
              "      display:flex;\n",
              "      flex-wrap:wrap;\n",
              "      gap: 12px;\n",
              "    }\n",
              "\n",
              "    .colab-df-convert {\n",
              "      background-color: #E8F0FE;\n",
              "      border: none;\n",
              "      border-radius: 50%;\n",
              "      cursor: pointer;\n",
              "      display: none;\n",
              "      fill: #1967D2;\n",
              "      height: 32px;\n",
              "      padding: 0 0 0 0;\n",
              "      width: 32px;\n",
              "    }\n",
              "\n",
              "    .colab-df-convert:hover {\n",
              "      background-color: #E2EBFA;\n",
              "      box-shadow: 0px 1px 2px rgba(60, 64, 67, 0.3), 0px 1px 3px 1px rgba(60, 64, 67, 0.15);\n",
              "      fill: #174EA6;\n",
              "    }\n",
              "\n",
              "    [theme=dark] .colab-df-convert {\n",
              "      background-color: #3B4455;\n",
              "      fill: #D2E3FC;\n",
              "    }\n",
              "\n",
              "    [theme=dark] .colab-df-convert:hover {\n",
              "      background-color: #434B5C;\n",
              "      box-shadow: 0px 1px 3px 1px rgba(0, 0, 0, 0.15);\n",
              "      filter: drop-shadow(0px 1px 2px rgba(0, 0, 0, 0.3));\n",
              "      fill: #FFFFFF;\n",
              "    }\n",
              "  </style>\n",
              "\n",
              "      <script>\n",
              "        const buttonEl =\n",
              "          document.querySelector('#df-e50fbb1d-ad50-4320-93d2-42d36d0a1bfa button.colab-df-convert');\n",
              "        buttonEl.style.display =\n",
              "          google.colab.kernel.accessAllowed ? 'block' : 'none';\n",
              "\n",
              "        async function convertToInteractive(key) {\n",
              "          const element = document.querySelector('#df-e50fbb1d-ad50-4320-93d2-42d36d0a1bfa');\n",
              "          const dataTable =\n",
              "            await google.colab.kernel.invokeFunction('convertToInteractive',\n",
              "                                                     [key], {});\n",
              "          if (!dataTable) return;\n",
              "\n",
              "          const docLinkHtml = 'Like what you see? Visit the ' +\n",
              "            '<a target=\"_blank\" href=https://colab.research.google.com/notebooks/data_table.ipynb>data table notebook</a>'\n",
              "            + ' to learn more about interactive tables.';\n",
              "          element.innerHTML = '';\n",
              "          dataTable['output_type'] = 'display_data';\n",
              "          await google.colab.output.renderOutput(dataTable, element);\n",
              "          const docLink = document.createElement('div');\n",
              "          docLink.innerHTML = docLinkHtml;\n",
              "          element.appendChild(docLink);\n",
              "        }\n",
              "      </script>\n",
              "    </div>\n",
              "  </div>\n",
              "  "
            ],
            "text/plain": [
              "     Time  Hospital_Stay  MRI_Units  CT_Scanners  Hospital_Beds  AUS  AUT  \\\n",
              "0    1992            6.6       1.43        16.71           1.43    1    0   \n",
              "1    1994            6.4       2.36        18.48           2.36    1    0   \n",
              "2    1995            6.5       2.89        20.55           2.89    1    0   \n",
              "3    1996            6.4       2.96        21.95           2.96    1    0   \n",
              "4    1997            6.2       3.53        23.34           3.53    1    0   \n",
              "..    ...            ...        ...          ...            ...  ...  ...   \n",
              "513  2014            6.8      10.57        22.17          10.57    0    0   \n",
              "514  2015            6.6      11.02        21.00          11.02    0    0   \n",
              "515  2016            6.6      12.20        23.01          12.20    0    0   \n",
              "516  2017            6.5      12.37        23.33          12.37    0    0   \n",
              "517  2018            6.5      12.49        24.27          12.49    0    0   \n",
              "\n",
              "     BEL  CAN  CZE  ...  LVA  NLD  NZL  POL  PRT  RUS  SVK  SVN  TUR  USA  \n",
              "0      0    0    0  ...    0    0    0    0    0    0    0    0    0    0  \n",
              "1      0    0    0  ...    0    0    0    0    0    0    0    0    0    0  \n",
              "2      0    0    0  ...    0    0    0    0    0    0    0    0    0    0  \n",
              "3      0    0    0  ...    0    0    0    0    0    0    0    0    0    0  \n",
              "4      0    0    0  ...    0    0    0    0    0    0    0    0    0    0  \n",
              "..   ...  ...  ...  ...  ...  ...  ...  ...  ...  ...  ...  ...  ...  ...  \n",
              "513    0    0    0  ...    0    0    0    0    0    0    0    0    0    0  \n",
              "514    0    0    0  ...    0    0    0    0    0    0    0    0    0    0  \n",
              "515    0    0    0  ...    0    0    0    0    0    0    0    0    0    0  \n",
              "516    0    0    0  ...    0    0    0    0    0    0    0    0    0    0  \n",
              "517    0    0    0  ...    0    0    0    0    0    0    0    0    0    0  \n",
              "\n",
              "[518 rows x 37 columns]"
            ]
          },
          "execution_count": 26,
          "metadata": {},
          "output_type": "execute_result"
        }
      ],
      "source": [
        "df1"
      ],
      "id": "EKntil4ycP0-"
    },
    {
      "cell_type": "markdown",
      "metadata": {
        "id": "Y6kk-8Qyc3ej"
      },
      "source": [
        "### Split df into X and y"
      ],
      "id": "Y6kk-8Qyc3ej"
    },
    {
      "cell_type": "code",
      "execution_count": null,
      "metadata": {
        "id": "3PY6PPYfceFU"
      },
      "outputs": [],
      "source": [
        "X = df1.drop('Hospital_Stay', axis=1)\n",
        "y = df1['Hospital_Stay']"
      ],
      "id": "3PY6PPYfceFU"
    },
    {
      "cell_type": "code",
      "execution_count": null,
      "metadata": {
        "colab": {
          "base_uri": "https://localhost:8080/"
        },
        "id": "g3CFQKyLewXN",
        "outputId": "084a5cea-2c97-47db-873b-aa88e4b98b2e"
      },
      "outputs": [
        {
          "data": {
            "text/plain": [
              "(518, 36)"
            ]
          },
          "execution_count": 28,
          "metadata": {},
          "output_type": "execute_result"
        }
      ],
      "source": [
        "X.shape"
      ],
      "id": "g3CFQKyLewXN"
    },
    {
      "cell_type": "code",
      "execution_count": null,
      "metadata": {
        "colab": {
          "base_uri": "https://localhost:8080/"
        },
        "id": "jKzXDHZ8ewMh",
        "outputId": "c69cabaf-244a-4bf8-f7c6-81fc4fadf8a5"
      },
      "outputs": [
        {
          "data": {
            "text/plain": [
              "(518,)"
            ]
          },
          "execution_count": 29,
          "metadata": {},
          "output_type": "execute_result"
        }
      ],
      "source": [
        "y.shape"
      ],
      "id": "jKzXDHZ8ewMh"
    },
    {
      "cell_type": "markdown",
      "metadata": {
        "id": "dg0Nj-qzdC4a"
      },
      "source": [
        "### Train and test"
      ],
      "id": "dg0Nj-qzdC4a"
    },
    {
      "cell_type": "code",
      "execution_count": null,
      "metadata": {
        "id": "FHnkh2rHceWC"
      },
      "outputs": [],
      "source": [
        "X_train, X_test, y_train, y_test = train_test_split(X, y, test_size=0.3, random_state=42)"
      ],
      "id": "FHnkh2rHceWC"
    },
    {
      "cell_type": "markdown",
      "metadata": {
        "id": "KRgXHdixg7WP"
      },
      "source": [
        "### Scale X with a standard scaler"
      ],
      "id": "KRgXHdixg7WP"
    },
    {
      "cell_type": "code",
      "execution_count": null,
      "metadata": {
        "colab": {
          "base_uri": "https://localhost:8080/",
          "height": 75
        },
        "id": "fhbq_ynlkoel",
        "outputId": "d9e503f1-a49b-4403-d9e0-0131c2bc20ab"
      },
      "outputs": [
        {
          "data": {
            "text/html": [
              "<style>#sk-container-id-1 {color: black;background-color: white;}#sk-container-id-1 pre{padding: 0;}#sk-container-id-1 div.sk-toggleable {background-color: white;}#sk-container-id-1 label.sk-toggleable__label {cursor: pointer;display: block;width: 100%;margin-bottom: 0;padding: 0.3em;box-sizing: border-box;text-align: center;}#sk-container-id-1 label.sk-toggleable__label-arrow:before {content: \"▸\";float: left;margin-right: 0.25em;color: #696969;}#sk-container-id-1 label.sk-toggleable__label-arrow:hover:before {color: black;}#sk-container-id-1 div.sk-estimator:hover label.sk-toggleable__label-arrow:before {color: black;}#sk-container-id-1 div.sk-toggleable__content {max-height: 0;max-width: 0;overflow: hidden;text-align: left;background-color: #f0f8ff;}#sk-container-id-1 div.sk-toggleable__content pre {margin: 0.2em;color: black;border-radius: 0.25em;background-color: #f0f8ff;}#sk-container-id-1 input.sk-toggleable__control:checked~div.sk-toggleable__content {max-height: 200px;max-width: 100%;overflow: auto;}#sk-container-id-1 input.sk-toggleable__control:checked~label.sk-toggleable__label-arrow:before {content: \"▾\";}#sk-container-id-1 div.sk-estimator input.sk-toggleable__control:checked~label.sk-toggleable__label {background-color: #d4ebff;}#sk-container-id-1 div.sk-label input.sk-toggleable__control:checked~label.sk-toggleable__label {background-color: #d4ebff;}#sk-container-id-1 input.sk-hidden--visually {border: 0;clip: rect(1px 1px 1px 1px);clip: rect(1px, 1px, 1px, 1px);height: 1px;margin: -1px;overflow: hidden;padding: 0;position: absolute;width: 1px;}#sk-container-id-1 div.sk-estimator {font-family: monospace;background-color: #f0f8ff;border: 1px dotted black;border-radius: 0.25em;box-sizing: border-box;margin-bottom: 0.5em;}#sk-container-id-1 div.sk-estimator:hover {background-color: #d4ebff;}#sk-container-id-1 div.sk-parallel-item::after {content: \"\";width: 100%;border-bottom: 1px solid gray;flex-grow: 1;}#sk-container-id-1 div.sk-label:hover label.sk-toggleable__label {background-color: #d4ebff;}#sk-container-id-1 div.sk-serial::before {content: \"\";position: absolute;border-left: 1px solid gray;box-sizing: border-box;top: 0;bottom: 0;left: 50%;z-index: 0;}#sk-container-id-1 div.sk-serial {display: flex;flex-direction: column;align-items: center;background-color: white;padding-right: 0.2em;padding-left: 0.2em;position: relative;}#sk-container-id-1 div.sk-item {position: relative;z-index: 1;}#sk-container-id-1 div.sk-parallel {display: flex;align-items: stretch;justify-content: center;background-color: white;position: relative;}#sk-container-id-1 div.sk-item::before, #sk-container-id-1 div.sk-parallel-item::before {content: \"\";position: absolute;border-left: 1px solid gray;box-sizing: border-box;top: 0;bottom: 0;left: 50%;z-index: -1;}#sk-container-id-1 div.sk-parallel-item {display: flex;flex-direction: column;z-index: 1;position: relative;background-color: white;}#sk-container-id-1 div.sk-parallel-item:first-child::after {align-self: flex-end;width: 50%;}#sk-container-id-1 div.sk-parallel-item:last-child::after {align-self: flex-start;width: 50%;}#sk-container-id-1 div.sk-parallel-item:only-child::after {width: 0;}#sk-container-id-1 div.sk-dashed-wrapped {border: 1px dashed gray;margin: 0 0.4em 0.5em 0.4em;box-sizing: border-box;padding-bottom: 0.4em;background-color: white;}#sk-container-id-1 div.sk-label label {font-family: monospace;font-weight: bold;display: inline-block;line-height: 1.2em;}#sk-container-id-1 div.sk-label-container {text-align: center;}#sk-container-id-1 div.sk-container {/* jupyter's `normalize.less` sets `[hidden] { display: none; }` but bootstrap.min.css set `[hidden] { display: none !important; }` so we also need the `!important` here to be able to override the default hidden behavior on the sphinx rendered scikit-learn.org. See: https://github.com/scikit-learn/scikit-learn/issues/21755 */display: inline-block !important;position: relative;}#sk-container-id-1 div.sk-text-repr-fallback {display: none;}</style><div id=\"sk-container-id-1\" class=\"sk-top-container\"><div class=\"sk-text-repr-fallback\"><pre>StandardScaler()</pre><b>In a Jupyter environment, please rerun this cell to show the HTML representation or trust the notebook. <br />On GitHub, the HTML representation is unable to render, please try loading this page with nbviewer.org.</b></div><div class=\"sk-container\" hidden><div class=\"sk-item\"><div class=\"sk-estimator sk-toggleable\"><input class=\"sk-toggleable__control sk-hidden--visually\" id=\"sk-estimator-id-1\" type=\"checkbox\" checked><label for=\"sk-estimator-id-1\" class=\"sk-toggleable__label sk-toggleable__label-arrow\">StandardScaler</label><div class=\"sk-toggleable__content\"><pre>StandardScaler()</pre></div></div></div></div></div>"
            ],
            "text/plain": [
              "StandardScaler()"
            ]
          },
          "execution_count": 31,
          "metadata": {},
          "output_type": "execute_result"
        }
      ],
      "source": [
        "scaler = StandardScaler()\n",
        "scaler.fit(X_train)"
      ],
      "id": "fhbq_ynlkoel"
    },
    {
      "cell_type": "code",
      "execution_count": null,
      "metadata": {
        "id": "CXoul4SIj2E2"
      },
      "outputs": [],
      "source": [
        "X_train = pd.DataFrame(scaler.transform(X_train), columns=X.columns)\n",
        "X_test = pd.DataFrame(scaler.transform(X_test), columns=X.columns)"
      ],
      "id": "CXoul4SIj2E2"
    },
    {
      "cell_type": "code",
      "execution_count": null,
      "metadata": {
        "colab": {
          "base_uri": "https://localhost:8080/",
          "height": 488
        },
        "id": "4a38d000",
        "outputId": "7bae3685-89bf-4039-afc0-759bf40110a7"
      },
      "outputs": [
        {
          "data": {
            "text/html": [
              "\n",
              "  <div id=\"df-ca5c4652-2e2a-46e6-844b-40922ed8f25a\">\n",
              "    <div class=\"colab-df-container\">\n",
              "      <div>\n",
              "<style scoped>\n",
              "    .dataframe tbody tr th:only-of-type {\n",
              "        vertical-align: middle;\n",
              "    }\n",
              "\n",
              "    .dataframe tbody tr th {\n",
              "        vertical-align: top;\n",
              "    }\n",
              "\n",
              "    .dataframe thead th {\n",
              "        text-align: right;\n",
              "    }\n",
              "</style>\n",
              "<table border=\"1\" class=\"dataframe\">\n",
              "  <thead>\n",
              "    <tr style=\"text-align: right;\">\n",
              "      <th></th>\n",
              "      <th>Time</th>\n",
              "      <th>MRI_Units</th>\n",
              "      <th>CT_Scanners</th>\n",
              "      <th>Hospital_Beds</th>\n",
              "      <th>AUS</th>\n",
              "      <th>AUT</th>\n",
              "      <th>BEL</th>\n",
              "      <th>CAN</th>\n",
              "      <th>CZE</th>\n",
              "      <th>DEU</th>\n",
              "      <th>...</th>\n",
              "      <th>LVA</th>\n",
              "      <th>NLD</th>\n",
              "      <th>NZL</th>\n",
              "      <th>POL</th>\n",
              "      <th>PRT</th>\n",
              "      <th>RUS</th>\n",
              "      <th>SVK</th>\n",
              "      <th>SVN</th>\n",
              "      <th>TUR</th>\n",
              "      <th>USA</th>\n",
              "    </tr>\n",
              "  </thead>\n",
              "  <tbody>\n",
              "    <tr>\n",
              "      <th>0</th>\n",
              "      <td>0.585141</td>\n",
              "      <td>-0.426666</td>\n",
              "      <td>-0.310388</td>\n",
              "      <td>-0.426666</td>\n",
              "      <td>-0.185164</td>\n",
              "      <td>-0.215041</td>\n",
              "      <td>-0.185164</td>\n",
              "      <td>-0.150329</td>\n",
              "      <td>4.985694</td>\n",
              "      <td>-0.200574</td>\n",
              "      <td>...</td>\n",
              "      <td>-0.16855</td>\n",
              "      <td>-0.193001</td>\n",
              "      <td>-0.159674</td>\n",
              "      <td>-0.177028</td>\n",
              "      <td>0.0</td>\n",
              "      <td>-0.228748</td>\n",
              "      <td>-0.177028</td>\n",
              "      <td>-0.16855</td>\n",
              "      <td>-0.177028</td>\n",
              "      <td>-0.150329</td>\n",
              "    </tr>\n",
              "    <tr>\n",
              "      <th>1</th>\n",
              "      <td>-2.324488</td>\n",
              "      <td>-1.005075</td>\n",
              "      <td>-0.847520</td>\n",
              "      <td>-1.005075</td>\n",
              "      <td>-0.185164</td>\n",
              "      <td>-0.215041</td>\n",
              "      <td>-0.185164</td>\n",
              "      <td>-0.150329</td>\n",
              "      <td>-0.200574</td>\n",
              "      <td>-0.200574</td>\n",
              "      <td>...</td>\n",
              "      <td>-0.16855</td>\n",
              "      <td>5.181327</td>\n",
              "      <td>-0.159674</td>\n",
              "      <td>-0.177028</td>\n",
              "      <td>0.0</td>\n",
              "      <td>-0.228748</td>\n",
              "      <td>-0.177028</td>\n",
              "      <td>-0.16855</td>\n",
              "      <td>-0.177028</td>\n",
              "      <td>-0.150329</td>\n",
              "    </tr>\n",
              "    <tr>\n",
              "      <th>2</th>\n",
              "      <td>-0.578711</td>\n",
              "      <td>-0.510574</td>\n",
              "      <td>-0.855794</td>\n",
              "      <td>-0.510574</td>\n",
              "      <td>-0.185164</td>\n",
              "      <td>-0.215041</td>\n",
              "      <td>-0.185164</td>\n",
              "      <td>-0.150329</td>\n",
              "      <td>-0.200574</td>\n",
              "      <td>-0.200574</td>\n",
              "      <td>...</td>\n",
              "      <td>-0.16855</td>\n",
              "      <td>5.181327</td>\n",
              "      <td>-0.159674</td>\n",
              "      <td>-0.177028</td>\n",
              "      <td>0.0</td>\n",
              "      <td>-0.228748</td>\n",
              "      <td>-0.177028</td>\n",
              "      <td>-0.16855</td>\n",
              "      <td>-0.177028</td>\n",
              "      <td>-0.150329</td>\n",
              "    </tr>\n",
              "    <tr>\n",
              "      <th>3</th>\n",
              "      <td>-1.742563</td>\n",
              "      <td>-0.360658</td>\n",
              "      <td>0.325344</td>\n",
              "      <td>-0.360658</td>\n",
              "      <td>-0.185164</td>\n",
              "      <td>4.650269</td>\n",
              "      <td>-0.185164</td>\n",
              "      <td>-0.150329</td>\n",
              "      <td>-0.200574</td>\n",
              "      <td>-0.200574</td>\n",
              "      <td>...</td>\n",
              "      <td>-0.16855</td>\n",
              "      <td>-0.193001</td>\n",
              "      <td>-0.159674</td>\n",
              "      <td>-0.177028</td>\n",
              "      <td>0.0</td>\n",
              "      <td>-0.228748</td>\n",
              "      <td>-0.177028</td>\n",
              "      <td>-0.16855</td>\n",
              "      <td>-0.177028</td>\n",
              "      <td>-0.150329</td>\n",
              "    </tr>\n",
              "    <tr>\n",
              "      <th>4</th>\n",
              "      <td>0.003215</td>\n",
              "      <td>-0.319263</td>\n",
              "      <td>-0.610327</td>\n",
              "      <td>-0.319263</td>\n",
              "      <td>-0.185164</td>\n",
              "      <td>-0.215041</td>\n",
              "      <td>-0.185164</td>\n",
              "      <td>-0.150329</td>\n",
              "      <td>-0.200574</td>\n",
              "      <td>-0.200574</td>\n",
              "      <td>...</td>\n",
              "      <td>-0.16855</td>\n",
              "      <td>-0.193001</td>\n",
              "      <td>-0.159674</td>\n",
              "      <td>-0.177028</td>\n",
              "      <td>0.0</td>\n",
              "      <td>-0.228748</td>\n",
              "      <td>-0.177028</td>\n",
              "      <td>-0.16855</td>\n",
              "      <td>5.648813</td>\n",
              "      <td>-0.150329</td>\n",
              "    </tr>\n",
              "    <tr>\n",
              "      <th>...</th>\n",
              "      <td>...</td>\n",
              "      <td>...</td>\n",
              "      <td>...</td>\n",
              "      <td>...</td>\n",
              "      <td>...</td>\n",
              "      <td>...</td>\n",
              "      <td>...</td>\n",
              "      <td>...</td>\n",
              "      <td>...</td>\n",
              "      <td>...</td>\n",
              "      <td>...</td>\n",
              "      <td>...</td>\n",
              "      <td>...</td>\n",
              "      <td>...</td>\n",
              "      <td>...</td>\n",
              "      <td>...</td>\n",
              "      <td>...</td>\n",
              "      <td>...</td>\n",
              "      <td>...</td>\n",
              "      <td>...</td>\n",
              "      <td>...</td>\n",
              "    </tr>\n",
              "    <tr>\n",
              "      <th>357</th>\n",
              "      <td>-0.578711</td>\n",
              "      <td>-0.653778</td>\n",
              "      <td>-0.610327</td>\n",
              "      <td>-0.653778</td>\n",
              "      <td>-0.185164</td>\n",
              "      <td>-0.215041</td>\n",
              "      <td>-0.185164</td>\n",
              "      <td>6.652067</td>\n",
              "      <td>-0.200574</td>\n",
              "      <td>-0.200574</td>\n",
              "      <td>...</td>\n",
              "      <td>-0.16855</td>\n",
              "      <td>-0.193001</td>\n",
              "      <td>-0.159674</td>\n",
              "      <td>-0.177028</td>\n",
              "      <td>0.0</td>\n",
              "      <td>-0.228748</td>\n",
              "      <td>-0.177028</td>\n",
              "      <td>-0.16855</td>\n",
              "      <td>-0.177028</td>\n",
              "      <td>-0.150329</td>\n",
              "    </tr>\n",
              "    <tr>\n",
              "      <th>358</th>\n",
              "      <td>-2.469970</td>\n",
              "      <td>-0.959205</td>\n",
              "      <td>-0.645492</td>\n",
              "      <td>-0.959205</td>\n",
              "      <td>-0.185164</td>\n",
              "      <td>-0.215041</td>\n",
              "      <td>-0.185164</td>\n",
              "      <td>-0.150329</td>\n",
              "      <td>-0.200574</td>\n",
              "      <td>-0.200574</td>\n",
              "      <td>...</td>\n",
              "      <td>-0.16855</td>\n",
              "      <td>-0.193001</td>\n",
              "      <td>-0.159674</td>\n",
              "      <td>-0.177028</td>\n",
              "      <td>0.0</td>\n",
              "      <td>-0.228748</td>\n",
              "      <td>-0.177028</td>\n",
              "      <td>-0.16855</td>\n",
              "      <td>-0.177028</td>\n",
              "      <td>-0.150329</td>\n",
              "    </tr>\n",
              "    <tr>\n",
              "      <th>359</th>\n",
              "      <td>1.458030</td>\n",
              "      <td>2.161070</td>\n",
              "      <td>1.312040</td>\n",
              "      <td>2.161070</td>\n",
              "      <td>-0.185164</td>\n",
              "      <td>-0.215041</td>\n",
              "      <td>-0.185164</td>\n",
              "      <td>-0.150329</td>\n",
              "      <td>-0.200574</td>\n",
              "      <td>-0.200574</td>\n",
              "      <td>...</td>\n",
              "      <td>-0.16855</td>\n",
              "      <td>-0.193001</td>\n",
              "      <td>-0.159674</td>\n",
              "      <td>-0.177028</td>\n",
              "      <td>0.0</td>\n",
              "      <td>-0.228748</td>\n",
              "      <td>-0.177028</td>\n",
              "      <td>-0.16855</td>\n",
              "      <td>-0.177028</td>\n",
              "      <td>-0.150329</td>\n",
              "    </tr>\n",
              "    <tr>\n",
              "      <th>360</th>\n",
              "      <td>-2.033526</td>\n",
              "      <td>-1.118071</td>\n",
              "      <td>-1.244681</td>\n",
              "      <td>-1.118071</td>\n",
              "      <td>-0.185164</td>\n",
              "      <td>-0.215041</td>\n",
              "      <td>-0.185164</td>\n",
              "      <td>-0.150329</td>\n",
              "      <td>-0.200574</td>\n",
              "      <td>-0.200574</td>\n",
              "      <td>...</td>\n",
              "      <td>-0.16855</td>\n",
              "      <td>-0.193001</td>\n",
              "      <td>-0.159674</td>\n",
              "      <td>-0.177028</td>\n",
              "      <td>0.0</td>\n",
              "      <td>4.371626</td>\n",
              "      <td>-0.177028</td>\n",
              "      <td>-0.16855</td>\n",
              "      <td>-0.177028</td>\n",
              "      <td>-0.150329</td>\n",
              "    </tr>\n",
              "    <tr>\n",
              "      <th>361</th>\n",
              "      <td>-0.869674</td>\n",
              "      <td>-0.246542</td>\n",
              "      <td>-0.397267</td>\n",
              "      <td>-0.246542</td>\n",
              "      <td>-0.185164</td>\n",
              "      <td>-0.215041</td>\n",
              "      <td>-0.185164</td>\n",
              "      <td>-0.150329</td>\n",
              "      <td>-0.200574</td>\n",
              "      <td>-0.200574</td>\n",
              "      <td>...</td>\n",
              "      <td>-0.16855</td>\n",
              "      <td>-0.193001</td>\n",
              "      <td>-0.159674</td>\n",
              "      <td>-0.177028</td>\n",
              "      <td>0.0</td>\n",
              "      <td>-0.228748</td>\n",
              "      <td>-0.177028</td>\n",
              "      <td>-0.16855</td>\n",
              "      <td>-0.177028</td>\n",
              "      <td>-0.150329</td>\n",
              "    </tr>\n",
              "  </tbody>\n",
              "</table>\n",
              "<p>362 rows × 36 columns</p>\n",
              "</div>\n",
              "      <button class=\"colab-df-convert\" onclick=\"convertToInteractive('df-ca5c4652-2e2a-46e6-844b-40922ed8f25a')\"\n",
              "              title=\"Convert this dataframe to an interactive table.\"\n",
              "              style=\"display:none;\">\n",
              "        \n",
              "  <svg xmlns=\"http://www.w3.org/2000/svg\" height=\"24px\"viewBox=\"0 0 24 24\"\n",
              "       width=\"24px\">\n",
              "    <path d=\"M0 0h24v24H0V0z\" fill=\"none\"/>\n",
              "    <path d=\"M18.56 5.44l.94 2.06.94-2.06 2.06-.94-2.06-.94-.94-2.06-.94 2.06-2.06.94zm-11 1L8.5 8.5l.94-2.06 2.06-.94-2.06-.94L8.5 2.5l-.94 2.06-2.06.94zm10 10l.94 2.06.94-2.06 2.06-.94-2.06-.94-.94-2.06-.94 2.06-2.06.94z\"/><path d=\"M17.41 7.96l-1.37-1.37c-.4-.4-.92-.59-1.43-.59-.52 0-1.04.2-1.43.59L10.3 9.45l-7.72 7.72c-.78.78-.78 2.05 0 2.83L4 21.41c.39.39.9.59 1.41.59.51 0 1.02-.2 1.41-.59l7.78-7.78 2.81-2.81c.8-.78.8-2.07 0-2.86zM5.41 20L4 18.59l7.72-7.72 1.47 1.35L5.41 20z\"/>\n",
              "  </svg>\n",
              "      </button>\n",
              "      \n",
              "  <style>\n",
              "    .colab-df-container {\n",
              "      display:flex;\n",
              "      flex-wrap:wrap;\n",
              "      gap: 12px;\n",
              "    }\n",
              "\n",
              "    .colab-df-convert {\n",
              "      background-color: #E8F0FE;\n",
              "      border: none;\n",
              "      border-radius: 50%;\n",
              "      cursor: pointer;\n",
              "      display: none;\n",
              "      fill: #1967D2;\n",
              "      height: 32px;\n",
              "      padding: 0 0 0 0;\n",
              "      width: 32px;\n",
              "    }\n",
              "\n",
              "    .colab-df-convert:hover {\n",
              "      background-color: #E2EBFA;\n",
              "      box-shadow: 0px 1px 2px rgba(60, 64, 67, 0.3), 0px 1px 3px 1px rgba(60, 64, 67, 0.15);\n",
              "      fill: #174EA6;\n",
              "    }\n",
              "\n",
              "    [theme=dark] .colab-df-convert {\n",
              "      background-color: #3B4455;\n",
              "      fill: #D2E3FC;\n",
              "    }\n",
              "\n",
              "    [theme=dark] .colab-df-convert:hover {\n",
              "      background-color: #434B5C;\n",
              "      box-shadow: 0px 1px 3px 1px rgba(0, 0, 0, 0.15);\n",
              "      filter: drop-shadow(0px 1px 2px rgba(0, 0, 0, 0.3));\n",
              "      fill: #FFFFFF;\n",
              "    }\n",
              "  </style>\n",
              "\n",
              "      <script>\n",
              "        const buttonEl =\n",
              "          document.querySelector('#df-ca5c4652-2e2a-46e6-844b-40922ed8f25a button.colab-df-convert');\n",
              "        buttonEl.style.display =\n",
              "          google.colab.kernel.accessAllowed ? 'block' : 'none';\n",
              "\n",
              "        async function convertToInteractive(key) {\n",
              "          const element = document.querySelector('#df-ca5c4652-2e2a-46e6-844b-40922ed8f25a');\n",
              "          const dataTable =\n",
              "            await google.colab.kernel.invokeFunction('convertToInteractive',\n",
              "                                                     [key], {});\n",
              "          if (!dataTable) return;\n",
              "\n",
              "          const docLinkHtml = 'Like what you see? Visit the ' +\n",
              "            '<a target=\"_blank\" href=https://colab.research.google.com/notebooks/data_table.ipynb>data table notebook</a>'\n",
              "            + ' to learn more about interactive tables.';\n",
              "          element.innerHTML = '';\n",
              "          dataTable['output_type'] = 'display_data';\n",
              "          await google.colab.output.renderOutput(dataTable, element);\n",
              "          const docLink = document.createElement('div');\n",
              "          docLink.innerHTML = docLinkHtml;\n",
              "          element.appendChild(docLink);\n",
              "        }\n",
              "      </script>\n",
              "    </div>\n",
              "  </div>\n",
              "  "
            ],
            "text/plain": [
              "         Time  MRI_Units  CT_Scanners  Hospital_Beds       AUS       AUT  \\\n",
              "0    0.585141  -0.426666    -0.310388      -0.426666 -0.185164 -0.215041   \n",
              "1   -2.324488  -1.005075    -0.847520      -1.005075 -0.185164 -0.215041   \n",
              "2   -0.578711  -0.510574    -0.855794      -0.510574 -0.185164 -0.215041   \n",
              "3   -1.742563  -0.360658     0.325344      -0.360658 -0.185164  4.650269   \n",
              "4    0.003215  -0.319263    -0.610327      -0.319263 -0.185164 -0.215041   \n",
              "..        ...        ...          ...            ...       ...       ...   \n",
              "357 -0.578711  -0.653778    -0.610327      -0.653778 -0.185164 -0.215041   \n",
              "358 -2.469970  -0.959205    -0.645492      -0.959205 -0.185164 -0.215041   \n",
              "359  1.458030   2.161070     1.312040       2.161070 -0.185164 -0.215041   \n",
              "360 -2.033526  -1.118071    -1.244681      -1.118071 -0.185164 -0.215041   \n",
              "361 -0.869674  -0.246542    -0.397267      -0.246542 -0.185164 -0.215041   \n",
              "\n",
              "          BEL       CAN       CZE       DEU  ...      LVA       NLD       NZL  \\\n",
              "0   -0.185164 -0.150329  4.985694 -0.200574  ... -0.16855 -0.193001 -0.159674   \n",
              "1   -0.185164 -0.150329 -0.200574 -0.200574  ... -0.16855  5.181327 -0.159674   \n",
              "2   -0.185164 -0.150329 -0.200574 -0.200574  ... -0.16855  5.181327 -0.159674   \n",
              "3   -0.185164 -0.150329 -0.200574 -0.200574  ... -0.16855 -0.193001 -0.159674   \n",
              "4   -0.185164 -0.150329 -0.200574 -0.200574  ... -0.16855 -0.193001 -0.159674   \n",
              "..        ...       ...       ...       ...  ...      ...       ...       ...   \n",
              "357 -0.185164  6.652067 -0.200574 -0.200574  ... -0.16855 -0.193001 -0.159674   \n",
              "358 -0.185164 -0.150329 -0.200574 -0.200574  ... -0.16855 -0.193001 -0.159674   \n",
              "359 -0.185164 -0.150329 -0.200574 -0.200574  ... -0.16855 -0.193001 -0.159674   \n",
              "360 -0.185164 -0.150329 -0.200574 -0.200574  ... -0.16855 -0.193001 -0.159674   \n",
              "361 -0.185164 -0.150329 -0.200574 -0.200574  ... -0.16855 -0.193001 -0.159674   \n",
              "\n",
              "          POL  PRT       RUS       SVK      SVN       TUR       USA  \n",
              "0   -0.177028  0.0 -0.228748 -0.177028 -0.16855 -0.177028 -0.150329  \n",
              "1   -0.177028  0.0 -0.228748 -0.177028 -0.16855 -0.177028 -0.150329  \n",
              "2   -0.177028  0.0 -0.228748 -0.177028 -0.16855 -0.177028 -0.150329  \n",
              "3   -0.177028  0.0 -0.228748 -0.177028 -0.16855 -0.177028 -0.150329  \n",
              "4   -0.177028  0.0 -0.228748 -0.177028 -0.16855  5.648813 -0.150329  \n",
              "..        ...  ...       ...       ...      ...       ...       ...  \n",
              "357 -0.177028  0.0 -0.228748 -0.177028 -0.16855 -0.177028 -0.150329  \n",
              "358 -0.177028  0.0 -0.228748 -0.177028 -0.16855 -0.177028 -0.150329  \n",
              "359 -0.177028  0.0 -0.228748 -0.177028 -0.16855 -0.177028 -0.150329  \n",
              "360 -0.177028  0.0  4.371626 -0.177028 -0.16855 -0.177028 -0.150329  \n",
              "361 -0.177028  0.0 -0.228748 -0.177028 -0.16855 -0.177028 -0.150329  \n",
              "\n",
              "[362 rows x 36 columns]"
            ]
          },
          "execution_count": 33,
          "metadata": {},
          "output_type": "execute_result"
        }
      ],
      "source": [
        "X_train"
      ],
      "id": "4a38d000"
    },
    {
      "cell_type": "code",
      "execution_count": null,
      "metadata": {
        "colab": {
          "base_uri": "https://localhost:8080/"
        },
        "id": "37f58b18",
        "outputId": "75ef1e80-3672-4ca7-af1b-b0db587347e7"
      },
      "outputs": [
        {
          "data": {
            "text/plain": [
              "94      6.2\n",
              "289    10.6\n",
              "291     7.5\n",
              "23      9.5\n",
              "365     4.1\n",
              "       ... \n",
              "71      7.3\n",
              "106     7.0\n",
              "270     7.5\n",
              "435    13.6\n",
              "102     3.7\n",
              "Name: Hospital_Stay, Length: 362, dtype: float64"
            ]
          },
          "execution_count": 34,
          "metadata": {},
          "output_type": "execute_result"
        }
      ],
      "source": [
        "y_train"
      ],
      "id": "37f58b18"
    },
    {
      "cell_type": "code",
      "execution_count": null,
      "metadata": {
        "colab": {
          "base_uri": "https://localhost:8080/"
        },
        "id": "Qb8-B1uCk0rc",
        "outputId": "55f9514a-42ee-4fef-fdbf-5f518d72ca1d"
      },
      "outputs": [
        {
          "data": {
            "text/plain": [
              "((362, 36), (362,))"
            ]
          },
          "execution_count": 35,
          "metadata": {},
          "output_type": "execute_result"
        }
      ],
      "source": [
        "X_train.shape , y_train.shape"
      ],
      "id": "Qb8-B1uCk0rc"
    },
    {
      "cell_type": "code",
      "execution_count": null,
      "metadata": {
        "colab": {
          "base_uri": "https://localhost:8080/"
        },
        "id": "Rd_IxU7xlAio",
        "outputId": "31e8a23d-2b33-4b87-d411-2aafbbeeb756"
      },
      "outputs": [
        {
          "data": {
            "text/plain": [
              "((156, 36), (156,))"
            ]
          },
          "execution_count": 36,
          "metadata": {},
          "output_type": "execute_result"
        }
      ],
      "source": [
        "X_test.shape , y_test.shape"
      ],
      "id": "Rd_IxU7xlAio"
    },
    {
      "cell_type": "markdown",
      "metadata": {
        "id": "52EMx37YlMGM"
      },
      "source": [
        "### Principal Component Analysis"
      ],
      "id": "52EMx37YlMGM"
    },
    {
      "cell_type": "code",
      "execution_count": null,
      "metadata": {
        "colab": {
          "base_uri": "https://localhost:8080/",
          "height": 75
        },
        "id": "qRjMOODHlLaQ",
        "outputId": "bf1ab266-bfce-429a-f331-8ced0544ea34"
      },
      "outputs": [
        {
          "data": {
            "text/html": [
              "<style>#sk-container-id-2 {color: black;background-color: white;}#sk-container-id-2 pre{padding: 0;}#sk-container-id-2 div.sk-toggleable {background-color: white;}#sk-container-id-2 label.sk-toggleable__label {cursor: pointer;display: block;width: 100%;margin-bottom: 0;padding: 0.3em;box-sizing: border-box;text-align: center;}#sk-container-id-2 label.sk-toggleable__label-arrow:before {content: \"▸\";float: left;margin-right: 0.25em;color: #696969;}#sk-container-id-2 label.sk-toggleable__label-arrow:hover:before {color: black;}#sk-container-id-2 div.sk-estimator:hover label.sk-toggleable__label-arrow:before {color: black;}#sk-container-id-2 div.sk-toggleable__content {max-height: 0;max-width: 0;overflow: hidden;text-align: left;background-color: #f0f8ff;}#sk-container-id-2 div.sk-toggleable__content pre {margin: 0.2em;color: black;border-radius: 0.25em;background-color: #f0f8ff;}#sk-container-id-2 input.sk-toggleable__control:checked~div.sk-toggleable__content {max-height: 200px;max-width: 100%;overflow: auto;}#sk-container-id-2 input.sk-toggleable__control:checked~label.sk-toggleable__label-arrow:before {content: \"▾\";}#sk-container-id-2 div.sk-estimator input.sk-toggleable__control:checked~label.sk-toggleable__label {background-color: #d4ebff;}#sk-container-id-2 div.sk-label input.sk-toggleable__control:checked~label.sk-toggleable__label {background-color: #d4ebff;}#sk-container-id-2 input.sk-hidden--visually {border: 0;clip: rect(1px 1px 1px 1px);clip: rect(1px, 1px, 1px, 1px);height: 1px;margin: -1px;overflow: hidden;padding: 0;position: absolute;width: 1px;}#sk-container-id-2 div.sk-estimator {font-family: monospace;background-color: #f0f8ff;border: 1px dotted black;border-radius: 0.25em;box-sizing: border-box;margin-bottom: 0.5em;}#sk-container-id-2 div.sk-estimator:hover {background-color: #d4ebff;}#sk-container-id-2 div.sk-parallel-item::after {content: \"\";width: 100%;border-bottom: 1px solid gray;flex-grow: 1;}#sk-container-id-2 div.sk-label:hover label.sk-toggleable__label {background-color: #d4ebff;}#sk-container-id-2 div.sk-serial::before {content: \"\";position: absolute;border-left: 1px solid gray;box-sizing: border-box;top: 0;bottom: 0;left: 50%;z-index: 0;}#sk-container-id-2 div.sk-serial {display: flex;flex-direction: column;align-items: center;background-color: white;padding-right: 0.2em;padding-left: 0.2em;position: relative;}#sk-container-id-2 div.sk-item {position: relative;z-index: 1;}#sk-container-id-2 div.sk-parallel {display: flex;align-items: stretch;justify-content: center;background-color: white;position: relative;}#sk-container-id-2 div.sk-item::before, #sk-container-id-2 div.sk-parallel-item::before {content: \"\";position: absolute;border-left: 1px solid gray;box-sizing: border-box;top: 0;bottom: 0;left: 50%;z-index: -1;}#sk-container-id-2 div.sk-parallel-item {display: flex;flex-direction: column;z-index: 1;position: relative;background-color: white;}#sk-container-id-2 div.sk-parallel-item:first-child::after {align-self: flex-end;width: 50%;}#sk-container-id-2 div.sk-parallel-item:last-child::after {align-self: flex-start;width: 50%;}#sk-container-id-2 div.sk-parallel-item:only-child::after {width: 0;}#sk-container-id-2 div.sk-dashed-wrapped {border: 1px dashed gray;margin: 0 0.4em 0.5em 0.4em;box-sizing: border-box;padding-bottom: 0.4em;background-color: white;}#sk-container-id-2 div.sk-label label {font-family: monospace;font-weight: bold;display: inline-block;line-height: 1.2em;}#sk-container-id-2 div.sk-label-container {text-align: center;}#sk-container-id-2 div.sk-container {/* jupyter's `normalize.less` sets `[hidden] { display: none; }` but bootstrap.min.css set `[hidden] { display: none !important; }` so we also need the `!important` here to be able to override the default hidden behavior on the sphinx rendered scikit-learn.org. See: https://github.com/scikit-learn/scikit-learn/issues/21755 */display: inline-block !important;position: relative;}#sk-container-id-2 div.sk-text-repr-fallback {display: none;}</style><div id=\"sk-container-id-2\" class=\"sk-top-container\"><div class=\"sk-text-repr-fallback\"><pre>PCA()</pre><b>In a Jupyter environment, please rerun this cell to show the HTML representation or trust the notebook. <br />On GitHub, the HTML representation is unable to render, please try loading this page with nbviewer.org.</b></div><div class=\"sk-container\" hidden><div class=\"sk-item\"><div class=\"sk-estimator sk-toggleable\"><input class=\"sk-toggleable__control sk-hidden--visually\" id=\"sk-estimator-id-2\" type=\"checkbox\" checked><label for=\"sk-estimator-id-2\" class=\"sk-toggleable__label sk-toggleable__label-arrow\">PCA</label><div class=\"sk-toggleable__content\"><pre>PCA()</pre></div></div></div></div></div>"
            ],
            "text/plain": [
              "PCA()"
            ]
          },
          "execution_count": 37,
          "metadata": {},
          "output_type": "execute_result"
        }
      ],
      "source": [
        "pca = PCA()\n",
        "pca.fit(X_train)"
      ],
      "id": "qRjMOODHlLaQ"
    },
    {
      "cell_type": "code",
      "execution_count": null,
      "metadata": {
        "colab": {
          "base_uri": "https://localhost:8080/",
          "height": 485
        },
        "id": "bp5lAhR8lVLG",
        "outputId": "35df9550-dd6f-4e1e-cc51-63b4fb21014c"
      },
      "outputs": [
        {
          "data": {
            "image/png": "[encoded data removed]",
            "text/plain": [
              "<Figure size 640x480 with 1 Axes>"
            ]
          },
          "metadata": {},
          "output_type": "display_data"
        }
      ],
      "source": [
        "explained_variance_ratio = pca.explained_variance_ratio_\n",
        "pc_vs_variance = np.cumsum(pca.explained_variance_ratio_)\n",
        "plt.plot(pc_vs_variance)\n",
        "plt.xlabel('Number of Components')\n",
        "plt.ylabel('% Explained Variance')\n",
        "plt.title('PCA Explained Variance vs. Number of Components')\n",
        "plt.show()"
      ],
      "id": "bp5lAhR8lVLG"
    },
    {
      "cell_type": "code",
      "execution_count": null,
      "metadata": {
        "id": "-3g2Hs_2li3E"
      },
      "outputs": [],
      "source": [
        "pca2 = PCA(n_components=30)\n",
        "x_train = pca2.fit_transform(X_train)\n",
        "x_test = pca2.transform(X_test)"
      ],
      "id": "-3g2Hs_2li3E"
    },
    {
      "cell_type": "code",
      "execution_count": null,
      "metadata": {
        "colab": {
          "base_uri": "https://localhost:8080/"
        },
        "id": "wSWw1C0el83i",
        "outputId": "86b9691d-9f92-4974-9c3a-a9ec162b01e5"
      },
      "outputs": [
        {
          "data": {
            "text/plain": [
              "((362, 36), (156, 36))"
            ]
          },
          "execution_count": 40,
          "metadata": {},
          "output_type": "execute_result"
        }
      ],
      "source": [
        "X_train.shape , X_test.shape"
      ],
      "id": "wSWw1C0el83i"
    },
    {
      "cell_type": "markdown",
      "metadata": {
        "id": "79151adc"
      },
      "source": [
        "### Training"
      ],
      "id": "79151adc"
    },
    {
      "cell_type": "markdown",
      "metadata": {
        "id": "swar7enawXZs"
      },
      "source": [
        "### 1.LinearRegression"
      ],
      "id": "swar7enawXZs"
    },
    {
      "cell_type": "code",
      "execution_count": null,
      "metadata": {
        "id": "lkfifYzcwd_M"
      },
      "outputs": [],
      "source": [
        "reg = LinearRegression()\n",
        "reg.fit(x_train, y_train)\n",
        "\n",
        "y_train_pred = reg.predict(x_train)\n",
        "y_pred = reg.predict(x_test)\n",
        "\n",
        "mse_test = mean_squared_error(y_test, y_pred)\n",
        "mse_train = mean_squared_error(y_train, y_train_pred)\n",
        "y_round_pred = np.ndarray.round(y_pred)\n",
        "y_round_train_pred = np.ndarray.round(y_train_pred)\n",
        "test_acc = r2_score(y_test, y_round_pred)\n",
        "train_acc = r2_score(y_train, y_round_train_pred)\n",
        "\n"
      ],
      "id": "lkfifYzcwd_M"
    },
    {
      "cell_type": "code",
      "execution_count": null,
      "metadata": {
        "colab": {
          "base_uri": "https://localhost:8080/"
        },
        "id": "vU6fxDK6wwo6",
        "outputId": "d8b48e4b-3091-4db4-8735-82d7e25b2369"
      },
      "outputs": [
        {
          "name": "stdout",
          "output_type": "stream",
          "text": [
            "1.0285920581504087\n",
            "Train accuracy: 0.8266096954516072\n"
          ]
        }
      ],
      "source": [
        "print(mse_train)\n",
        "print('Train accuracy:', train_acc)"
      ],
      "id": "vU6fxDK6wwo6"
    },
    {
      "cell_type": "code",
      "execution_count": null,
      "metadata": {
        "colab": {
          "base_uri": "https://localhost:8080/"
        },
        "id": "c3-T4Zd0wuXb",
        "outputId": "b611ca6a-fcd0-4c34-fe4b-26345a17e785"
      },
      "outputs": [
        {
          "name": "stdout",
          "output_type": "stream",
          "text": [
            "1.1128154558249963\n",
            "Test accuracy: 0.79322192441684\n"
          ]
        }
      ],
      "source": [
        "print(mse_test)\n",
        "print('Test accuracy:', test_acc)"
      ],
      "id": "c3-T4Zd0wuXb"
    },
    {
      "cell_type": "markdown",
      "metadata": {
        "id": "EVQ1-bXymOWi"
      },
      "source": [
        "### 2.KNeighborsRegressor"
      ],
      "id": "EVQ1-bXymOWi"
    },
    {
      "cell_type": "code",
      "execution_count": null,
      "metadata": {
        "colab": {
          "base_uri": "https://localhost:8080/",
          "height": 75
        },
        "id": "09e60cc4",
        "outputId": "b4a47d01-42a0-4d73-c201-e411f056068c"
      },
      "outputs": [
        {
          "data": {
            "text/html": [
              "<style>#sk-container-id-3 {color: black;background-color: white;}#sk-container-id-3 pre{padding: 0;}#sk-container-id-3 div.sk-toggleable {background-color: white;}#sk-container-id-3 label.sk-toggleable__label {cursor: pointer;display: block;width: 100%;margin-bottom: 0;padding: 0.3em;box-sizing: border-box;text-align: center;}#sk-container-id-3 label.sk-toggleable__label-arrow:before {content: \"▸\";float: left;margin-right: 0.25em;color: #696969;}#sk-container-id-3 label.sk-toggleable__label-arrow:hover:before {color: black;}#sk-container-id-3 div.sk-estimator:hover label.sk-toggleable__label-arrow:before {color: black;}#sk-container-id-3 div.sk-toggleable__content {max-height: 0;max-width: 0;overflow: hidden;text-align: left;background-color: #f0f8ff;}#sk-container-id-3 div.sk-toggleable__content pre {margin: 0.2em;color: black;border-radius: 0.25em;background-color: #f0f8ff;}#sk-container-id-3 input.sk-toggleable__control:checked~div.sk-toggleable__content {max-height: 200px;max-width: 100%;overflow: auto;}#sk-container-id-3 input.sk-toggleable__control:checked~label.sk-toggleable__label-arrow:before {content: \"▾\";}#sk-container-id-3 div.sk-estimator input.sk-toggleable__control:checked~label.sk-toggleable__label {background-color: #d4ebff;}#sk-container-id-3 div.sk-label input.sk-toggleable__control:checked~label.sk-toggleable__label {background-color: #d4ebff;}#sk-container-id-3 input.sk-hidden--visually {border: 0;clip: rect(1px 1px 1px 1px);clip: rect(1px, 1px, 1px, 1px);height: 1px;margin: -1px;overflow: hidden;padding: 0;position: absolute;width: 1px;}#sk-container-id-3 div.sk-estimator {font-family: monospace;background-color: #f0f8ff;border: 1px dotted black;border-radius: 0.25em;box-sizing: border-box;margin-bottom: 0.5em;}#sk-container-id-3 div.sk-estimator:hover {background-color: #d4ebff;}#sk-container-id-3 div.sk-parallel-item::after {content: \"\";width: 100%;border-bottom: 1px solid gray;flex-grow: 1;}#sk-container-id-3 div.sk-label:hover label.sk-toggleable__label {background-color: #d4ebff;}#sk-container-id-3 div.sk-serial::before {content: \"\";position: absolute;border-left: 1px solid gray;box-sizing: border-box;top: 0;bottom: 0;left: 50%;z-index: 0;}#sk-container-id-3 div.sk-serial {display: flex;flex-direction: column;align-items: center;background-color: white;padding-right: 0.2em;padding-left: 0.2em;position: relative;}#sk-container-id-3 div.sk-item {position: relative;z-index: 1;}#sk-container-id-3 div.sk-parallel {display: flex;align-items: stretch;justify-content: center;background-color: white;position: relative;}#sk-container-id-3 div.sk-item::before, #sk-container-id-3 div.sk-parallel-item::before {content: \"\";position: absolute;border-left: 1px solid gray;box-sizing: border-box;top: 0;bottom: 0;left: 50%;z-index: -1;}#sk-container-id-3 div.sk-parallel-item {display: flex;flex-direction: column;z-index: 1;position: relative;background-color: white;}#sk-container-id-3 div.sk-parallel-item:first-child::after {align-self: flex-end;width: 50%;}#sk-container-id-3 div.sk-parallel-item:last-child::after {align-self: flex-start;width: 50%;}#sk-container-id-3 div.sk-parallel-item:only-child::after {width: 0;}#sk-container-id-3 div.sk-dashed-wrapped {border: 1px dashed gray;margin: 0 0.4em 0.5em 0.4em;box-sizing: border-box;padding-bottom: 0.4em;background-color: white;}#sk-container-id-3 div.sk-label label {font-family: monospace;font-weight: bold;display: inline-block;line-height: 1.2em;}#sk-container-id-3 div.sk-label-container {text-align: center;}#sk-container-id-3 div.sk-container {/* jupyter's `normalize.less` sets `[hidden] { display: none; }` but bootstrap.min.css set `[hidden] { display: none !important; }` so we also need the `!important` here to be able to override the default hidden behavior on the sphinx rendered scikit-learn.org. See: https://github.com/scikit-learn/scikit-learn/issues/21755 */display: inline-block !important;position: relative;}#sk-container-id-3 div.sk-text-repr-fallback {display: none;}</style><div id=\"sk-container-id-3\" class=\"sk-top-container\"><div class=\"sk-text-repr-fallback\"><pre>KNeighborsRegressor()</pre><b>In a Jupyter environment, please rerun this cell to show the HTML representation or trust the notebook. <br />On GitHub, the HTML representation is unable to render, please try loading this page with nbviewer.org.</b></div><div class=\"sk-container\" hidden><div class=\"sk-item\"><div class=\"sk-estimator sk-toggleable\"><input class=\"sk-toggleable__control sk-hidden--visually\" id=\"sk-estimator-id-3\" type=\"checkbox\" checked><label for=\"sk-estimator-id-3\" class=\"sk-toggleable__label sk-toggleable__label-arrow\">KNeighborsRegressor</label><div class=\"sk-toggleable__content\"><pre>KNeighborsRegressor()</pre></div></div></div></div></div>"
            ],
            "text/plain": [
              "KNeighborsRegressor()"
            ]
          },
          "execution_count": 43,
          "metadata": {},
          "output_type": "execute_result"
        }
      ],
      "source": [
        "KNreg = KNeighborsRegressor()\n",
        "KNreg.fit(x_train, y_train)"
      ],
      "id": "09e60cc4"
    },
    {
      "cell_type": "code",
      "execution_count": null,
      "metadata": {
        "id": "hkHuyvCtmXo8"
      },
      "outputs": [],
      "source": [
        "y_train_pred = KNreg.predict(x_train)\n",
        "y_pred = KNreg.predict(x_test)"
      ],
      "id": "hkHuyvCtmXo8"
    },
    {
      "cell_type": "code",
      "execution_count": null,
      "metadata": {
        "id": "OwduyFUimbXV"
      },
      "outputs": [],
      "source": [
        "mse_test = mean_squared_error(y_test, y_pred)\n",
        "mse_train = mean_squared_error(y_train, y_train_pred)"
      ],
      "id": "OwduyFUimbXV"
    },
    {
      "cell_type": "code",
      "execution_count": null,
      "metadata": {
        "id": "kjaqeUgimfXj"
      },
      "outputs": [],
      "source": [
        "y_round_pred = np.ndarray.round(y_pred)\n",
        "y_round_train_pred = np.ndarray.round(y_train_pred)"
      ],
      "id": "kjaqeUgimfXj"
    },
    {
      "cell_type": "code",
      "execution_count": null,
      "metadata": {
        "id": "qv-z9tnLnLEO"
      },
      "outputs": [],
      "source": [
        "test_acc = r2_score(y_test, y_round_pred)\n",
        "train_acc = r2_score(y_train, y_round_train_pred)"
      ],
      "id": "qv-z9tnLnLEO"
    },
    {
      "cell_type": "code",
      "execution_count": null,
      "metadata": {
        "colab": {
          "base_uri": "https://localhost:8080/"
        },
        "id": "NbLD7SkTnO-W",
        "outputId": "e023f97d-a819-4440-8559-db02800f73e8"
      },
      "outputs": [
        {
          "name": "stdout",
          "output_type": "stream",
          "text": [
            "0.6551491712707185\n",
            "Train R2_score: 0.8871874449080331\n"
          ]
        }
      ],
      "source": [
        "print(mse_train)\n",
        "print('Train R2_score:', train_acc)"
      ],
      "id": "NbLD7SkTnO-W"
    },
    {
      "cell_type": "code",
      "execution_count": null,
      "metadata": {
        "colab": {
          "base_uri": "https://localhost:8080/"
        },
        "id": "rYK2Ik-3ns0q",
        "outputId": "60f033c4-b455-4b9a-c20c-d94f114c386a"
      },
      "outputs": [
        {
          "name": "stdout",
          "output_type": "stream",
          "text": [
            "0.6264641025641028\n",
            "Test R2_score: 0.884073803169143\n"
          ]
        }
      ],
      "source": [
        "print(mse_test)\n",
        "print('Test R2_score:', test_acc)"
      ],
      "id": "rYK2Ik-3ns0q"
    },
    {
      "cell_type": "markdown",
      "metadata": {
        "id": "WZugizGEoshu"
      },
      "source": [
        "### 3.Linear_SVR"
      ],
      "id": "WZugizGEoshu"
    },
    {
      "cell_type": "code",
      "execution_count": null,
      "metadata": {
        "id": "1BhF3N7yn0_V"
      },
      "outputs": [],
      "source": [
        "Lsvrreg = LinearSVR()\n",
        "Lsvrreg.fit(x_train, y_train)\n",
        "\n",
        "y_train_pred = Lsvrreg.predict(x_train)\n",
        "y_pred = Lsvrreg.predict(x_test)\n",
        "\n",
        "mse_test = mean_squared_error(y_test, y_pred)\n",
        "mse_train = mean_squared_error(y_train, y_train_pred)\n",
        "y_round_pred = np.ndarray.round(y_pred)\n",
        "y_round_train_pred = np.ndarray.round(y_train_pred)\n",
        "test_acc = r2_score(y_test, y_round_pred)\n",
        "train_acc = r2_score(y_train, y_round_train_pred)"
      ],
      "id": "1BhF3N7yn0_V"
    },
    {
      "cell_type": "code",
      "execution_count": null,
      "metadata": {
        "colab": {
          "base_uri": "https://localhost:8080/"
        },
        "id": "r47h3zOFouSR",
        "outputId": "3d549470-57db-459f-be2b-66ed1d0739cc"
      },
      "outputs": [
        {
          "name": "stdout",
          "output_type": "stream",
          "text": [
            "1.345997582311704\n",
            "Train R2_score: 0.7714332542457543\n"
          ]
        }
      ],
      "source": [
        "print(mse_train)\n",
        "print('Train R2_score:', train_acc)\n"
      ],
      "id": "r47h3zOFouSR"
    },
    {
      "cell_type": "code",
      "execution_count": null,
      "metadata": {
        "colab": {
          "base_uri": "https://localhost:8080/"
        },
        "id": "wpN-uVvtqG2m",
        "outputId": "6f40075d-56bf-420d-9b6d-30307b175222"
      },
      "outputs": [
        {
          "name": "stdout",
          "output_type": "stream",
          "text": [
            "1.6020769238464805\n",
            "Test R2_score: 0.7147771304280676\n"
          ]
        }
      ],
      "source": [
        "print(mse_test)\n",
        "print('Test R2_score:', test_acc)"
      ],
      "id": "wpN-uVvtqG2m"
    },
    {
      "cell_type": "markdown",
      "metadata": {
        "id": "K5ccfH4JqI_e"
      },
      "source": [
        "### 4.Support_Vector_Regressor"
      ],
      "id": "K5ccfH4JqI_e"
    },
    {
      "cell_type": "code",
      "execution_count": null,
      "metadata": {
        "id": "41zuf7Z5oy6a"
      },
      "outputs": [],
      "source": [
        "svrreg = SVR()\n",
        "svrreg.fit(x_train, y_train)\n",
        "\n",
        "y_train_pred = svrreg.predict(x_train)\n",
        "y_pred = svrreg.predict(x_test)\n",
        "\n",
        "mse_test = mean_squared_error(y_test, y_pred)\n",
        "mse_train = mean_squared_error(y_train, y_train_pred)\n",
        "y_round_pred = np.ndarray.round(y_pred)\n",
        "y_round_train_pred = np.ndarray.round(y_train_pred)\n",
        "test_acc = r2_score(y_test, y_round_pred)\n",
        "train_acc = r2_score(y_train, y_round_train_pred)"
      ],
      "id": "41zuf7Z5oy6a"
    },
    {
      "cell_type": "code",
      "execution_count": null,
      "metadata": {
        "colab": {
          "base_uri": "https://localhost:8080/"
        },
        "id": "Dt1uD3M4pWlf",
        "outputId": "97ebda07-f964-40ca-a2ea-4338ed068578"
      },
      "outputs": [
        {
          "name": "stdout",
          "output_type": "stream",
          "text": [
            "2.3898192149380417\n",
            "Train R2_score: 0.6176206146794383\n"
          ]
        }
      ],
      "source": [
        "print(mse_train)\n",
        "print('Train R2_score:', train_acc)"
      ],
      "id": "Dt1uD3M4pWlf"
    },
    {
      "cell_type": "code",
      "execution_count": null,
      "metadata": {
        "colab": {
          "base_uri": "https://localhost:8080/"
        },
        "id": "f5mw8nrGpaov",
        "outputId": "494e16ed-e8ba-482a-c8b2-39326bd7a54c"
      },
      "outputs": [
        {
          "name": "stdout",
          "output_type": "stream",
          "text": [
            "2.5415278053028496\n",
            "Test R2_score: 0.5987108536079448\n"
          ]
        }
      ],
      "source": [
        "print(mse_test)\n",
        "print('Test R2_score:', test_acc)"
      ],
      "id": "f5mw8nrGpaov"
    },
    {
      "cell_type": "markdown",
      "metadata": {
        "id": "_zX5PoIZqQQG"
      },
      "source": [
        "### 5.DecisionTreeRegressor"
      ],
      "id": "_zX5PoIZqQQG"
    },
    {
      "cell_type": "code",
      "execution_count": null,
      "metadata": {
        "id": "gLuVYEE5p6rj"
      },
      "outputs": [],
      "source": [
        "Dreg =  DecisionTreeRegressor()\n",
        "Dreg.fit(x_train, y_train)\n",
        "\n",
        "y_train_pred = Dreg.predict(x_train)\n",
        "y_pred = Dreg.predict(x_test)\n",
        "\n",
        "mse_test = mean_squared_error(y_test, y_pred)\n",
        "mse_train = mean_squared_error(y_train, y_train_pred)\n",
        "y_round_pred = np.ndarray.round(y_pred)\n",
        "y_round_train_pred = np.ndarray.round(y_train_pred)\n",
        "test_acc = r2_score(y_test, y_round_pred)\n",
        "train_acc = r2_score(y_train, y_round_train_pred)"
      ],
      "id": "gLuVYEE5p6rj"
    },
    {
      "cell_type": "code",
      "execution_count": null,
      "metadata": {
        "colab": {
          "base_uri": "https://localhost:8080/"
        },
        "id": "eyJA_ny3qm00",
        "outputId": "694a5bde-d4c0-4b6a-bbae-61b28fb6ac7c"
      },
      "outputs": [
        {
          "name": "stdout",
          "output_type": "stream",
          "text": [
            "1.307504262797257e-32\n",
            "Train R2_score: 0.9880672636187342\n"
          ]
        }
      ],
      "source": [
        "print(mse_train)\n",
        "print('Train R2_score:', train_acc)"
      ],
      "id": "eyJA_ny3qm00"
    },
    {
      "cell_type": "code",
      "execution_count": null,
      "metadata": {
        "colab": {
          "base_uri": "https://localhost:8080/"
        },
        "id": "iP4g0-9Uqmgc",
        "outputId": "a1169518-d0e3-4b90-bc36-17074f5c5a63"
      },
      "outputs": [
        {
          "name": "stdout",
          "output_type": "stream",
          "text": [
            "0.5102564102564106\n",
            "Test R2_score: 0.9090880869665832\n"
          ]
        }
      ],
      "source": [
        "print(mse_test)\n",
        "print('Test R2_score:', test_acc)"
      ],
      "id": "iP4g0-9Uqmgc"
    },
    {
      "cell_type": "markdown",
      "metadata": {
        "id": "0hYB3VxQqxvE"
      },
      "source": [
        "### 6. RandomForestRegressor"
      ],
      "id": "0hYB3VxQqxvE"
    },
    {
      "cell_type": "code",
      "execution_count": null,
      "metadata": {
        "colab": {
          "background_save": true
        },
        "id": "WyG3f0AhqkbA"
      },
      "outputs": [],
      "source": [
        "rfgreg = RandomForestRegressor(max_depth= 10,min_samples_leaf=15,n_estimators=10)\n",
        "rfgreg.fit(x_train, y_train)\n",
        "\n",
        "y_train_pred = rfgreg.predict(x_train)\n",
        "y_pred = rfgreg.predict(x_test)\n",
        "\n",
        "mse_test = mean_squared_error(y_test, y_pred)\n",
        "mse_train = mean_squared_error(y_train, y_train_pred)\n",
        "y_round_pred = np.ndarray.round(y_pred)\n",
        "y_round_train_pred = np.ndarray.round(y_train_pred)\n",
        "test_acc = r2_score(y_test, y_round_pred)\n",
        "train_acc = r2_score(y_train, y_round_train_pred)"
      ],
      "id": "WyG3f0AhqkbA"
    },
    {
      "cell_type": "code",
      "execution_count": null,
      "metadata": {
        "colab": {
          "background_save": true,
          "base_uri": "https://localhost:8080/"
        },
        "id": "CZxxO8HzrG06",
        "outputId": "69c0eb43-91f9-4baf-bc5a-7d40340a4584"
      },
      "outputs": [
        {
          "name": "stdout",
          "output_type": "stream",
          "text": [
            "0.48801507450371673\n",
            "Train R2_score: 0.9151080537109949\n"
          ]
        }
      ],
      "source": [
        "print(mse_train)\n",
        "print('Train R2_score:', train_acc)"
      ],
      "id": "CZxxO8HzrG06"
    },
    {
      "cell_type": "code",
      "execution_count": null,
      "metadata": {
        "colab": {
          "background_save": true,
          "base_uri": "https://localhost:8080/"
        },
        "id": "GdDIvh_ArGs8",
        "outputId": "77426ee3-5d74-4bc3-f522-5a128a5de016"
      },
      "outputs": [
        {
          "name": "stdout",
          "output_type": "stream",
          "text": [
            "0.7560975790119461\n",
            "Test R2_score: 0.8588594051013232\n"
          ]
        }
      ],
      "source": [
        "print(mse_test)\n",
        "print('Test R2_score:', test_acc)"
      ],
      "id": "GdDIvh_ArGs8"
    },
    {
      "cell_type": "markdown",
      "metadata": {
        "id": "svuB9qOQrT9t"
      },
      "source": [
        "### 7.GradientBoostingRegressor"
      ],
      "id": "svuB9qOQrT9t"
    },
    {
      "cell_type": "code",
      "execution_count": null,
      "metadata": {
        "id": "gfQP7lv-q67w"
      },
      "outputs": [],
      "source": [
        "gbreg = GradientBoostingRegressor()\n",
        "gbreg.fit(x_train, y_train)\n",
        "\n",
        "y_train_pred = gbreg.predict(x_train)\n",
        "y_pred = gbreg.predict(x_test)\n",
        "\n",
        "mse_test = mean_squared_error(y_test, y_pred)\n",
        "mse_train = mean_squared_error(y_train, y_train_pred)\n",
        "y_round_pred = np.ndarray.round(y_pred)\n",
        "y_round_train_pred = np.ndarray.round(y_train_pred)\n",
        "test_acc = r2_score(y_test, y_round_pred)\n",
        "train_acc = r2_score(y_train, y_round_train_pred)"
      ],
      "id": "gfQP7lv-q67w"
    },
    {
      "cell_type": "code",
      "execution_count": null,
      "metadata": {
        "colab": {
          "base_uri": "https://localhost:8080/"
        },
        "id": "-sTx5zNvrhKM",
        "outputId": "0f025cc0-3cef-4164-c5ff-a37d32110159"
      },
      "outputs": [
        {
          "name": "stdout",
          "output_type": "stream",
          "text": [
            "0.0417231890674207\n",
            "Train R2_score: 0.9833307317682318\n"
          ]
        }
      ],
      "source": [
        "print(mse_train)\n",
        "print('Train R2_score:', train_acc)"
      ],
      "id": "-sTx5zNvrhKM"
    },
    {
      "cell_type": "code",
      "execution_count": null,
      "metadata": {
        "colab": {
          "base_uri": "https://localhost:8080/"
        },
        "id": "HgcjPiQmrqdZ",
        "outputId": "a4a23019-b24b-4859-a6c8-78068d954192"
      },
      "outputs": [
        {
          "name": "stdout",
          "output_type": "stream",
          "text": [
            "0.20782845702331662\n",
            "Test R2_score: 0.9549142548834937\n"
          ]
        }
      ],
      "source": [
        "print(mse_test)\n",
        "print('Test R2_score:', test_acc)"
      ],
      "id": "HgcjPiQmrqdZ"
    },
    {
      "cell_type": "markdown",
      "metadata": {
        "id": "6DP37kZCry72"
      },
      "source": [
        "### 8.LightGBMRegressor"
      ],
      "id": "6DP37kZCry72"
    },
    {
      "cell_type": "code",
      "execution_count": null,
      "metadata": {
        "id": "4_tgTg_8rwaI"
      },
      "outputs": [],
      "source": [
        "lgbreg = LGBMRegressor()\n",
        "lgbreg.fit(x_train, y_train)\n",
        "\n",
        "y_train_pred = lgbreg.predict(x_train)\n",
        "y_pred = lgbreg.predict(x_test)\n",
        "\n",
        "mse_test = mean_squared_error(y_test, y_pred)\n",
        "mse_train = mean_squared_error(y_train, y_train_pred)\n",
        "y_round_pred = np.ndarray.round(y_pred)\n",
        "y_round_train_pred = np.ndarray.round(y_train_pred)\n",
        "test_acc = r2_score(y_test, y_round_pred)\n",
        "train_acc = r2_score(y_train, y_round_train_pred)"
      ],
      "id": "4_tgTg_8rwaI"
    },
    {
      "cell_type": "code",
      "execution_count": null,
      "metadata": {
        "colab": {
          "base_uri": "https://localhost:8080/"
        },
        "id": "-SrXWyPKsZbr",
        "outputId": "b8aa6342-e334-4596-caf1-f6336a920e6d"
      },
      "outputs": [
        {
          "name": "stdout",
          "output_type": "stream",
          "text": [
            "0.5631692443647557\n",
            "Train R2_score: 0.9071307369101487\n"
          ]
        }
      ],
      "source": [
        "print(mse_train)\n",
        "print('Train R2_score:', train_acc)"
      ],
      "id": "-SrXWyPKsZbr"
    },
    {
      "cell_type": "code",
      "execution_count": null,
      "metadata": {
        "colab": {
          "base_uri": "https://localhost:8080/"
        },
        "id": "GfeTXmMVsWJC",
        "outputId": "97a8b4da-ca53-4884-a2ce-6ebf9cc2fc50"
      },
      "outputs": [
        {
          "name": "stdout",
          "output_type": "stream",
          "text": [
            "0.7794378814848922\n",
            "Test R2_score: 0.8752687752724441\n"
          ]
        }
      ],
      "source": [
        "print(mse_test)\n",
        "print('Test R2_score:', test_acc)"
      ],
      "id": "GfeTXmMVsWJC"
    },
    {
      "cell_type": "markdown",
      "metadata": {
        "id": "XVRQJ91Bu0nY"
      },
      "source": [
        "Find the best algorithm for this dataset"
      ],
      "id": "XVRQJ91Bu0nY"
    },
    {
      "cell_type": "code",
      "execution_count": null,
      "metadata": {
        "id": "JoGDdS1zscn3"
      },
      "outputs": [],
      "source": [
        "models = {\n",
        "    \"                     Linear Regression\": LinearRegression(),\n",
        "    \"                   K-Nearest Neighbors\": KNeighborsRegressor(),\n",
        "    \"Support Vector Machine (Linear Kernel)\": LinearSVR(),\n",
        "    \"   Support Vector Machine (RBF Kernel)\": SVR(),\n",
        "    \"                         Decision Tree\": DecisionTreeRegressor(),\n",
        "    \"                         Random Forest\": RandomForestRegressor(),\n",
        "    \"                     Gradient Boosting\": GradientBoostingRegressor(),\n",
        "    \"                              LightGBM\": LGBMRegressor()\n",
        "}\n"
      ],
      "id": "JoGDdS1zscn3"
    },
    {
      "cell_type": "markdown",
      "metadata": {
        "id": "hdJ_uTPS4bL3"
      },
      "source": [
        "### Experimental Result"
      ],
      "id": "hdJ_uTPS4bL3"
    },
    {
      "cell_type": "code",
      "execution_count": null,
      "metadata": {
        "colab": {
          "base_uri": "https://localhost:8080/"
        },
        "id": "IxZ57EJSuyzp",
        "outputId": "fd7c3a0a-3d7a-47c1-9549-629bb8059d7c"
      },
      "outputs": [
        {
          "name": "stdout",
          "output_type": "stream",
          "text": [
            "                     Linear Regression R^2 Score: -2427423715109666029568.00000\n",
            "                   K-Nearest Neighbors R^2 Score: 0.90098\n",
            "Support Vector Machine (Linear Kernel) R^2 Score: 0.84362\n",
            "   Support Vector Machine (RBF Kernel) R^2 Score: 0.60897\n",
            "                         Decision Tree R^2 Score: 0.93519\n",
            "                         Random Forest R^2 Score: 0.96817\n",
            "                     Gradient Boosting R^2 Score: 0.95264\n",
            "                              LightGBM R^2 Score: 0.41449\n"
          ]
        }
      ],
      "source": [
        "for name, model in models.items():\n",
        "    model.fit(X_train, y_train)\n",
        "    print(name + \" R^2 Score: {:.5f}\".format(model.score(X_test, y_test)))"
      ],
      "id": "IxZ57EJSuyzp"
    },
    {
      "cell_type": "markdown",
      "metadata": {
        "id": "2DogF2xy4POA"
      },
      "source": [
        "The best algorithm for this dataset is Random Forest regressor algorihtm"
      ],
      "id": "2DogF2xy4POA"
    },
    {
      "cell_type": "markdown",
      "metadata": {
        "id": "FBb9TBWhLayU"
      },
      "source": [
        "### Predict the new data with Random Forest Regressor"
      ],
      "id": "FBb9TBWhLayU"
    },
    {
      "cell_type": "code",
      "execution_count": null,
      "metadata": {
        "id": "TrKaFup04Y53"
      },
      "outputs": [],
      "source": [
        "new = rfgreg.predict([[1,0.3,0.2,0.2,1.0,0.4,0,0,0,0,0,0,0,1,0.4,0.5,0.6,0.3,0.2,0.3,0.2,0,0.33,0,0.32,0.44,0.22,0.6,0.4,0.7]])"
      ],
      "id": "TrKaFup04Y53"
    },
    {
      "cell_type": "code",
      "execution_count": null,
      "metadata": {
        "colab": {
          "base_uri": "https://localhost:8080/"
        },
        "id": "oxNUpUpHKY_e",
        "outputId": "5d4b5de8-700d-459b-a895-07635ac923b6"
      },
      "outputs": [
        {
          "name": "stdout",
          "output_type": "stream",
          "text": [
            "The given new patients stay in  [10.597]\n"
          ]
        }
      ],
      "source": [
        "print(\"The given new patients stay in \",new)"
      ],
      "id": "oxNUpUpHKY_e"
    }
  ],
  "metadata": {
    "colab": {
      "provenance": []
    },
    "kernelspec": {
      "display_name": "Python 3 (ipykernel)",
      "language": "python",
      "name": "python3"
    },
    "language_info": {
      "codemirror_mode": {
        "name": "ipython",
        "version": 3
      },
      "file_extension": ".py",
      "mimetype": "text/x-python",
      "name": "python",
      "nbconvert_exporter": "python",
      "pygments_lexer": "ipython3",
      "version": "3.9.12"
    }
  },
  "nbformat": 4,
  "nbformat_minor": 5
}